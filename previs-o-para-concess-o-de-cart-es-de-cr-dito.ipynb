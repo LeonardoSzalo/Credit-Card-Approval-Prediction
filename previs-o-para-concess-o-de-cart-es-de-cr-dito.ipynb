{
 "cells": [
  {
   "cell_type": "markdown",
   "id": "9a423286",
   "metadata": {
    "papermill": {
     "duration": 0.013646,
     "end_time": "2024-06-16T19:59:46.421407",
     "exception": false,
     "start_time": "2024-06-16T19:59:46.407761",
     "status": "completed"
    },
    "tags": []
   },
   "source": [
    "# <span > Concessão de cartões de crédito </span>"
   ]
  },
  {
   "cell_type": "markdown",
   "id": "4e0706ee",
   "metadata": {
    "papermill": {
     "duration": 0.012963,
     "end_time": "2024-06-16T19:59:46.447798",
     "exception": false,
     "start_time": "2024-06-16T19:59:46.434835",
     "status": "completed"
    },
    "tags": []
   },
   "source": [
    "# Entendimento do negócio\n",
    "\n",
    "Este é um problema de concessão de cartões de crédito, publicado no [Kaggle](https://www.kaggle.com/), uma plataforma que promove desafios de ciência de dados, oferecendo prêmios em dinheiro para os melhores colocados. O link original está [aqui](https://www.kaggle.com/rikdifos/credit-card-approval-prediction). A base utilizada foi modificada e fornecida pela EBAC (https://ebaconline.com.br/)\n",
    "  \n",
    "Essa é uma base de proponentes de cartão de crédito, nosso objetivo é construir um modelo preditivo para identificar o risco de inadimplência (tipicamente definida pela ocorrência de um atraso maior ou igual a 90 em um horizonte de 12 meses) através de variáveis que podem ser observadas na data da avaliação do crédito (tipicamente quando o cliente solicita o cartão)."
   ]
  },
  {
   "cell_type": "markdown",
   "id": "ef1fe187",
   "metadata": {
    "papermill": {
     "duration": 0.012807,
     "end_time": "2024-06-16T19:59:46.473867",
     "exception": false,
     "start_time": "2024-06-16T19:59:46.461060",
     "status": "completed"
    },
    "tags": []
   },
   "source": [
    "# Entendimento dos dados\n",
    "\n",
    "#### Dicionário de dados\n",
    "\n",
    "Os dados estão dispostos em uma tabela com uma linha para cada cliente, e uma coluna para cada variável armazenando as características desses clientes. Colocamos uma cópia o dicionário de dados (explicação dessas variáveis) abaixo neste notebook:\n",
    "\n",
    "| Variable Name            | Description                                         | Tipo  |\n",
    "| ------------------------ |:---------------------------------------------------:| -----:|\n",
    "| sexo| M = 'Masculino'; F = 'Feminino' |M/F|\n",
    "| posse_de_veiculo| Y = 'possui'; N = 'não possui' |Y/N|\n",
    "| posse_de_imovel| Y = 'possui'; N = 'não possui' |Y/N|\n",
    "| qtd_filhos| Quantidade de filhos |inteiro|\n",
    "| tipo_renda|Tipo de renda (ex: assaliariado, autônomo etc) | texto |\n",
    "| educacao| Nível de educação (ex: secundário, superior etc) |texto|\n",
    "| estado_civil | Estado civil (ex: solteiro, casado etc)| texto |\n",
    "| tipo_residencia | tipo de residência (ex: casa/apartamento, com os pais etc) | texto |\n",
    "| idade | idade em anos |inteiro|\n",
    "| tempo de emprego | tempo de emprego em anos |inteiro|\n",
    "| possui_celular | Indica se possui celular (1 = sim, 0 = não) |binária|\n",
    "| possui_fone_comercial | Indica se possui telefone comercial (1 = sim, 0 = não) |binária|\n",
    "| possui_fone | Indica se possui telefone (1 = sim, 0 = não) |binária|\n",
    "| possui_email | Indica se possui e-mail (1 = sim, 0 = não) |binária|\n",
    "| qt_pessoas_residencia | quantidade de pessoas na residência |inteiro|\n",
    "| **mau** | indicadora de mau pagador (True = mau, False = bom) |binária|\n",
    "\n",
    "\n",
    "\n"
   ]
  },
  {
   "cell_type": "markdown",
   "id": "20f3548c",
   "metadata": {
    "papermill": {
     "duration": 0.012809,
     "end_time": "2024-06-16T19:59:46.499783",
     "exception": false,
     "start_time": "2024-06-16T19:59:46.486974",
     "status": "completed"
    },
    "tags": []
   },
   "source": [
    "# Carregando os pacotes e os dados\n"
   ]
  },
  {
   "cell_type": "code",
   "execution_count": 1,
   "id": "45c873ab",
   "metadata": {
    "execution": {
     "iopub.execute_input": "2024-06-16T19:59:46.528913Z",
     "iopub.status.busy": "2024-06-16T19:59:46.528443Z",
     "iopub.status.idle": "2024-06-16T20:00:45.928560Z",
     "shell.execute_reply": "2024-06-16T20:00:45.927372Z"
    },
    "papermill": {
     "duration": 59.41799,
     "end_time": "2024-06-16T20:00:45.931522",
     "exception": false,
     "start_time": "2024-06-16T19:59:46.513532",
     "status": "completed"
    },
    "tags": []
   },
   "outputs": [
    {
     "name": "stdout",
     "output_type": "stream",
     "text": [
      "Collecting numpy==1.26\r\n",
      "  Downloading numpy-1.26.0-cp310-cp310-manylinux_2_17_x86_64.manylinux2014_x86_64.whl.metadata (58 kB)\r\n",
      "\u001b[2K     \u001b[90m━━━━━━━━━━━━━━━━━━━━━━━━━━━━━━━━━━━━━━━━\u001b[0m \u001b[32m58.5/58.5 kB\u001b[0m \u001b[31m1.5 MB/s\u001b[0m eta \u001b[36m0:00:00\u001b[0m\r\n",
      "\u001b[?25hDownloading numpy-1.26.0-cp310-cp310-manylinux_2_17_x86_64.manylinux2014_x86_64.whl (18.2 MB)\r\n",
      "\u001b[2K   \u001b[90m━━━━━━━━━━━━━━━━━━━━━━━━━━━━━━━━━━━━━━━━\u001b[0m \u001b[32m18.2/18.2 MB\u001b[0m \u001b[31m61.7 MB/s\u001b[0m eta \u001b[36m0:00:00\u001b[0m\r\n",
      "\u001b[?25hInstalling collected packages: numpy\r\n",
      "  Attempting uninstall: numpy\r\n",
      "    Found existing installation: numpy 1.26.4\r\n",
      "    Uninstalling numpy-1.26.4:\r\n",
      "      Successfully uninstalled numpy-1.26.4\r\n",
      "\u001b[31mERROR: pip's dependency resolver does not currently take into account all the packages that are installed. This behaviour is the source of the following dependency conflicts.\r\n",
      "keras-nlp 0.12.1 requires keras-core, which is not installed.\r\n",
      "tensorflow-decision-forests 1.8.1 requires wurlitzer, which is not installed.\r\n",
      "apache-beam 2.46.0 requires dill<0.3.2,>=0.3.1.1, but you have dill 0.3.8 which is incompatible.\r\n",
      "apache-beam 2.46.0 requires numpy<1.25.0,>=1.14.3, but you have numpy 1.26.0 which is incompatible.\r\n",
      "apache-beam 2.46.0 requires pyarrow<10.0.0,>=3.0.0, but you have pyarrow 16.1.0 which is incompatible.\r\n",
      "libpysal 4.9.2 requires packaging>=22, but you have packaging 21.3 which is incompatible.\r\n",
      "libpysal 4.9.2 requires shapely>=2.0.1, but you have shapely 1.8.5.post1 which is incompatible.\r\n",
      "momepy 0.7.0 requires shapely>=2, but you have shapely 1.8.5.post1 which is incompatible.\r\n",
      "osmnx 1.9.3 requires shapely>=2.0, but you have shapely 1.8.5.post1 which is incompatible.\r\n",
      "spopt 0.6.0 requires shapely>=2.0.1, but you have shapely 1.8.5.post1 which is incompatible.\r\n",
      "tensorflow 2.15.0 requires keras<2.16,>=2.15.0, but you have keras 3.3.3 which is incompatible.\r\n",
      "tensorstore 0.1.60 requires ml-dtypes>=0.3.1, but you have ml-dtypes 0.2.0 which is incompatible.\r\n",
      "xarray 2024.5.0 requires packaging>=23.1, but you have packaging 21.3 which is incompatible.\r\n",
      "ydata-profiling 4.6.4 requires numpy<1.26,>=1.16.0, but you have numpy 1.26.0 which is incompatible.\u001b[0m\u001b[31m\r\n",
      "\u001b[0mSuccessfully installed numpy-1.26.0\r\n",
      "Collecting seaborn==0.13\r\n",
      "  Downloading seaborn-0.13.0-py3-none-any.whl.metadata (5.3 kB)\r\n",
      "Requirement already satisfied: numpy!=1.24.0,>=1.20 in /opt/conda/lib/python3.10/site-packages (from seaborn==0.13) (1.26.0)\r\n",
      "Requirement already satisfied: pandas>=1.2 in /opt/conda/lib/python3.10/site-packages (from seaborn==0.13) (2.2.2)\r\n",
      "Requirement already satisfied: matplotlib!=3.6.1,>=3.3 in /opt/conda/lib/python3.10/site-packages (from seaborn==0.13) (3.7.5)\r\n",
      "Requirement already satisfied: contourpy>=1.0.1 in /opt/conda/lib/python3.10/site-packages (from matplotlib!=3.6.1,>=3.3->seaborn==0.13) (1.2.0)\r\n",
      "Requirement already satisfied: cycler>=0.10 in /opt/conda/lib/python3.10/site-packages (from matplotlib!=3.6.1,>=3.3->seaborn==0.13) (0.12.1)\r\n",
      "Requirement already satisfied: fonttools>=4.22.0 in /opt/conda/lib/python3.10/site-packages (from matplotlib!=3.6.1,>=3.3->seaborn==0.13) (4.47.0)\r\n",
      "Requirement already satisfied: kiwisolver>=1.0.1 in /opt/conda/lib/python3.10/site-packages (from matplotlib!=3.6.1,>=3.3->seaborn==0.13) (1.4.5)\r\n",
      "Requirement already satisfied: packaging>=20.0 in /opt/conda/lib/python3.10/site-packages (from matplotlib!=3.6.1,>=3.3->seaborn==0.13) (21.3)\r\n",
      "Requirement already satisfied: pillow>=6.2.0 in /opt/conda/lib/python3.10/site-packages (from matplotlib!=3.6.1,>=3.3->seaborn==0.13) (9.5.0)\r\n",
      "Requirement already satisfied: pyparsing>=2.3.1 in /opt/conda/lib/python3.10/site-packages (from matplotlib!=3.6.1,>=3.3->seaborn==0.13) (3.1.1)\r\n",
      "Requirement already satisfied: python-dateutil>=2.7 in /opt/conda/lib/python3.10/site-packages (from matplotlib!=3.6.1,>=3.3->seaborn==0.13) (2.9.0.post0)\r\n",
      "Requirement already satisfied: pytz>=2020.1 in /opt/conda/lib/python3.10/site-packages (from pandas>=1.2->seaborn==0.13) (2023.3.post1)\r\n",
      "Requirement already satisfied: tzdata>=2022.7 in /opt/conda/lib/python3.10/site-packages (from pandas>=1.2->seaborn==0.13) (2023.4)\r\n",
      "Requirement already satisfied: six>=1.5 in /opt/conda/lib/python3.10/site-packages (from python-dateutil>=2.7->matplotlib!=3.6.1,>=3.3->seaborn==0.13) (1.16.0)\r\n",
      "Downloading seaborn-0.13.0-py3-none-any.whl (294 kB)\r\n",
      "\u001b[2K   \u001b[90m━━━━━━━━━━━━━━━━━━━━━━━━━━━━━━━━━━━━━━━━\u001b[0m \u001b[32m294.6/294.6 kB\u001b[0m \u001b[31m4.0 MB/s\u001b[0m eta \u001b[36m0:00:00\u001b[0m\r\n",
      "\u001b[?25hInstalling collected packages: seaborn\r\n",
      "  Attempting uninstall: seaborn\r\n",
      "    Found existing installation: seaborn 0.12.2\r\n",
      "    Uninstalling seaborn-0.12.2:\r\n",
      "      Successfully uninstalled seaborn-0.12.2\r\n",
      "\u001b[31mERROR: pip's dependency resolver does not currently take into account all the packages that are installed. This behaviour is the source of the following dependency conflicts.\r\n",
      "ydata-profiling 4.6.4 requires numpy<1.26,>=1.16.0, but you have numpy 1.26.0 which is incompatible.\r\n",
      "ydata-profiling 4.6.4 requires seaborn<0.13,>=0.10.1, but you have seaborn 0.13.0 which is incompatible.\u001b[0m\u001b[31m\r\n",
      "\u001b[0mSuccessfully installed seaborn-0.13.0\r\n",
      "Collecting pandas==2.0.3\r\n",
      "  Downloading pandas-2.0.3-cp310-cp310-manylinux_2_17_x86_64.manylinux2014_x86_64.whl.metadata (18 kB)\r\n",
      "Requirement already satisfied: python-dateutil>=2.8.2 in /opt/conda/lib/python3.10/site-packages (from pandas==2.0.3) (2.9.0.post0)\r\n",
      "Requirement already satisfied: pytz>=2020.1 in /opt/conda/lib/python3.10/site-packages (from pandas==2.0.3) (2023.3.post1)\r\n",
      "Requirement already satisfied: tzdata>=2022.1 in /opt/conda/lib/python3.10/site-packages (from pandas==2.0.3) (2023.4)\r\n",
      "Requirement already satisfied: numpy>=1.21.0 in /opt/conda/lib/python3.10/site-packages (from pandas==2.0.3) (1.26.0)\r\n",
      "Requirement already satisfied: six>=1.5 in /opt/conda/lib/python3.10/site-packages (from python-dateutil>=2.8.2->pandas==2.0.3) (1.16.0)\r\n",
      "Downloading pandas-2.0.3-cp310-cp310-manylinux_2_17_x86_64.manylinux2014_x86_64.whl (12.3 MB)\r\n",
      "\u001b[2K   \u001b[90m━━━━━━━━━━━━━━━━━━━━━━━━━━━━━━━━━━━━━━━━\u001b[0m \u001b[32m12.3/12.3 MB\u001b[0m \u001b[31m72.9 MB/s\u001b[0m eta \u001b[36m0:00:00\u001b[0m\r\n",
      "\u001b[?25hInstalling collected packages: pandas\r\n",
      "  Attempting uninstall: pandas\r\n",
      "    Found existing installation: pandas 2.2.2\r\n",
      "    Uninstalling pandas-2.2.2:\r\n",
      "      Successfully uninstalled pandas-2.2.2\r\n",
      "\u001b[31mERROR: pip's dependency resolver does not currently take into account all the packages that are installed. This behaviour is the source of the following dependency conflicts.\r\n",
      "tensorflow-decision-forests 1.8.1 requires wurlitzer, which is not installed.\r\n",
      "beatrix-jupyterlab 2023.128.151533 requires jupyterlab~=3.6.0, but you have jupyterlab 4.2.1 which is incompatible.\r\n",
      "libpysal 4.9.2 requires packaging>=22, but you have packaging 21.3 which is incompatible.\r\n",
      "libpysal 4.9.2 requires shapely>=2.0.1, but you have shapely 1.8.5.post1 which is incompatible.\r\n",
      "mizani 0.11.4 requires pandas>=2.1.0, but you have pandas 2.0.3 which is incompatible.\r\n",
      "momepy 0.7.0 requires shapely>=2, but you have shapely 1.8.5.post1 which is incompatible.\r\n",
      "osmnx 1.9.3 requires shapely>=2.0, but you have shapely 1.8.5.post1 which is incompatible.\r\n",
      "plotnine 0.13.6 requires pandas<3.0.0,>=2.1.0, but you have pandas 2.0.3 which is incompatible.\r\n",
      "spopt 0.6.0 requires shapely>=2.0.1, but you have shapely 1.8.5.post1 which is incompatible.\r\n",
      "xarray 2024.5.0 requires packaging>=23.1, but you have packaging 21.3 which is incompatible.\r\n",
      "ydata-profiling 4.6.4 requires numpy<1.26,>=1.16.0, but you have numpy 1.26.0 which is incompatible.\r\n",
      "ydata-profiling 4.6.4 requires seaborn<0.13,>=0.10.1, but you have seaborn 0.13.0 which is incompatible.\u001b[0m\u001b[31m\r\n",
      "\u001b[0mSuccessfully installed pandas-2.0.3\r\n"
     ]
    }
   ],
   "source": [
    "!pip install numpy==1.26\n",
    "!pip install seaborn==0.13\n",
    "!pip install pandas==2.0.3\n",
    "\n",
    "\n",
    "import pandas as pd\n",
    "import seaborn as sns\n",
    "import matplotlib.pyplot as plt\n",
    "import numpy as np\n",
    "\n",
    "\n",
    "from sklearn.model_selection import train_test_split\n",
    "from sklearn import metrics\n",
    "from sklearn.ensemble import RandomForestClassifier"
   ]
  },
  {
   "cell_type": "markdown",
   "id": "fa142e67",
   "metadata": {
    "papermill": {
     "duration": 0.015802,
     "end_time": "2024-06-16T20:00:45.963632",
     "exception": false,
     "start_time": "2024-06-16T20:00:45.947830",
     "status": "completed"
    },
    "tags": []
   },
   "source": [
    "#### Escolha de cores e paletas para os gráficos"
   ]
  },
  {
   "cell_type": "code",
   "execution_count": 2,
   "id": "7a42f08c",
   "metadata": {
    "execution": {
     "iopub.execute_input": "2024-06-16T20:00:45.997262Z",
     "iopub.status.busy": "2024-06-16T20:00:45.996711Z",
     "iopub.status.idle": "2024-06-16T20:00:46.002875Z",
     "shell.execute_reply": "2024-06-16T20:00:46.001473Z"
    },
    "papermill": {
     "duration": 0.025949,
     "end_time": "2024-06-16T20:00:46.005401",
     "exception": false,
     "start_time": "2024-06-16T20:00:45.979452",
     "status": "completed"
    },
    "tags": []
   },
   "outputs": [],
   "source": [
    "color_palette = ['#023047', '#e85d04', '#0077b6', '#0096c7', '#ff9c33']\n",
    "sns.set_palette(sns.color_palette(color_palette))"
   ]
  },
  {
   "cell_type": "markdown",
   "id": "d4a9a38f",
   "metadata": {
    "papermill": {
     "duration": 0.01575,
     "end_time": "2024-06-16T20:00:46.037622",
     "exception": false,
     "start_time": "2024-06-16T20:00:46.021872",
     "status": "completed"
    },
    "tags": []
   },
   "source": [
    "#### Carregando os dados\n"
   ]
  },
  {
   "cell_type": "code",
   "execution_count": 3,
   "id": "30fa59c6",
   "metadata": {
    "execution": {
     "iopub.execute_input": "2024-06-16T20:00:46.071552Z",
     "iopub.status.busy": "2024-06-16T20:00:46.070748Z",
     "iopub.status.idle": "2024-06-16T20:00:46.159716Z",
     "shell.execute_reply": "2024-06-16T20:00:46.158555Z"
    },
    "papermill": {
     "duration": 0.10904,
     "end_time": "2024-06-16T20:00:46.162552",
     "exception": false,
     "start_time": "2024-06-16T20:00:46.053512",
     "status": "completed"
    },
    "tags": []
   },
   "outputs": [
    {
     "name": "stdout",
     "output_type": "stream",
     "text": [
      "Número de linhas e colunas da tabela: (16650, 16)\n"
     ]
    },
    {
     "data": {
      "text/html": [
       "<div>\n",
       "<style scoped>\n",
       "    .dataframe tbody tr th:only-of-type {\n",
       "        vertical-align: middle;\n",
       "    }\n",
       "\n",
       "    .dataframe tbody tr th {\n",
       "        vertical-align: top;\n",
       "    }\n",
       "\n",
       "    .dataframe thead th {\n",
       "        text-align: right;\n",
       "    }\n",
       "</style>\n",
       "<table border=\"1\" class=\"dataframe\">\n",
       "  <thead>\n",
       "    <tr style=\"text-align: right;\">\n",
       "      <th></th>\n",
       "      <th>sexo</th>\n",
       "      <th>posse_de_veiculo</th>\n",
       "      <th>posse_de_imovel</th>\n",
       "      <th>qtd_filhos</th>\n",
       "      <th>tipo_renda</th>\n",
       "      <th>educacao</th>\n",
       "      <th>estado_civil</th>\n",
       "      <th>tipo_residencia</th>\n",
       "      <th>idade</th>\n",
       "      <th>tempo_emprego</th>\n",
       "      <th>possui_celular</th>\n",
       "      <th>possui_fone_comercial</th>\n",
       "      <th>possui_fone</th>\n",
       "      <th>possui_email</th>\n",
       "      <th>qt_pessoas_residencia</th>\n",
       "      <th>mau</th>\n",
       "    </tr>\n",
       "  </thead>\n",
       "  <tbody>\n",
       "    <tr>\n",
       "      <th>0</th>\n",
       "      <td>M</td>\n",
       "      <td>Y</td>\n",
       "      <td>Y</td>\n",
       "      <td>0</td>\n",
       "      <td>Working</td>\n",
       "      <td>Secondary / secondary special</td>\n",
       "      <td>Married</td>\n",
       "      <td>House / apartment</td>\n",
       "      <td>58.832877</td>\n",
       "      <td>3.106849</td>\n",
       "      <td>1</td>\n",
       "      <td>0</td>\n",
       "      <td>0</td>\n",
       "      <td>0</td>\n",
       "      <td>2.0</td>\n",
       "      <td>False</td>\n",
       "    </tr>\n",
       "  </tbody>\n",
       "</table>\n",
       "</div>"
      ],
      "text/plain": [
       "  sexo posse_de_veiculo posse_de_imovel  qtd_filhos tipo_renda  \\\n",
       "0    M                Y               Y           0    Working   \n",
       "\n",
       "                        educacao estado_civil    tipo_residencia      idade  \\\n",
       "0  Secondary / secondary special      Married  House / apartment  58.832877   \n",
       "\n",
       "   tempo_emprego  possui_celular  possui_fone_comercial  possui_fone  \\\n",
       "0       3.106849               1                      0            0   \n",
       "\n",
       "   possui_email  qt_pessoas_residencia    mau  \n",
       "0             0                    2.0  False  "
      ]
     },
     "execution_count": 3,
     "metadata": {},
     "output_type": "execute_result"
    }
   ],
   "source": [
    "df = pd.read_csv('/kaggle/input/perfil-clientes-concessao-de-credito/demo01.csv', na_values='NaN')\n",
    "print (\"Número de linhas e colunas da tabela: {}\".format(df.shape))\n",
    "\n",
    "df.head(1)"
   ]
  },
  {
   "cell_type": "markdown",
   "id": "ae0db14c",
   "metadata": {
    "papermill": {
     "duration": 0.015876,
     "end_time": "2024-06-16T20:00:46.195046",
     "exception": false,
     "start_time": "2024-06-16T20:00:46.179170",
     "status": "completed"
    },
    "tags": []
   },
   "source": [
    "#### Separando os grupos\n"
   ]
  },
  {
   "cell_type": "code",
   "execution_count": 4,
   "id": "e0ef812b",
   "metadata": {
    "execution": {
     "iopub.execute_input": "2024-06-16T20:00:46.232195Z",
     "iopub.status.busy": "2024-06-16T20:00:46.231100Z",
     "iopub.status.idle": "2024-06-16T20:00:46.240788Z",
     "shell.execute_reply": "2024-06-16T20:00:46.239665Z"
    },
    "papermill": {
     "duration": 0.031905,
     "end_time": "2024-06-16T20:00:46.243279",
     "exception": false,
     "start_time": "2024-06-16T20:00:46.211374",
     "status": "completed"
    },
    "tags": []
   },
   "outputs": [],
   "source": [
    "df_adimplentes=df[df['mau']==False]\n"
   ]
  },
  {
   "cell_type": "code",
   "execution_count": 5,
   "id": "16a6da79",
   "metadata": {
    "execution": {
     "iopub.execute_input": "2024-06-16T20:00:46.278039Z",
     "iopub.status.busy": "2024-06-16T20:00:46.277632Z",
     "iopub.status.idle": "2024-06-16T20:00:46.284130Z",
     "shell.execute_reply": "2024-06-16T20:00:46.283023Z"
    },
    "papermill": {
     "duration": 0.026892,
     "end_time": "2024-06-16T20:00:46.286537",
     "exception": false,
     "start_time": "2024-06-16T20:00:46.259645",
     "status": "completed"
    },
    "tags": []
   },
   "outputs": [],
   "source": [
    "df_inadimplentes=df[df['mau']==True]\n"
   ]
  },
  {
   "cell_type": "code",
   "execution_count": 6,
   "id": "126b62d0",
   "metadata": {
    "execution": {
     "iopub.execute_input": "2024-06-16T20:00:46.321515Z",
     "iopub.status.busy": "2024-06-16T20:00:46.321135Z",
     "iopub.status.idle": "2024-06-16T20:00:46.340787Z",
     "shell.execute_reply": "2024-06-16T20:00:46.339494Z"
    },
    "papermill": {
     "duration": 0.039898,
     "end_time": "2024-06-16T20:00:46.343236",
     "exception": false,
     "start_time": "2024-06-16T20:00:46.303338",
     "status": "completed"
    },
    "tags": []
   },
   "outputs": [
    {
     "data": {
      "text/html": [
       "<div>\n",
       "<style scoped>\n",
       "    .dataframe tbody tr th:only-of-type {\n",
       "        vertical-align: middle;\n",
       "    }\n",
       "\n",
       "    .dataframe tbody tr th {\n",
       "        vertical-align: top;\n",
       "    }\n",
       "\n",
       "    .dataframe thead th {\n",
       "        text-align: right;\n",
       "    }\n",
       "</style>\n",
       "<table border=\"1\" class=\"dataframe\">\n",
       "  <thead>\n",
       "    <tr style=\"text-align: right;\">\n",
       "      <th></th>\n",
       "      <th>sexo</th>\n",
       "      <th>posse_de_veiculo</th>\n",
       "      <th>posse_de_imovel</th>\n",
       "      <th>qtd_filhos</th>\n",
       "      <th>tipo_renda</th>\n",
       "      <th>educacao</th>\n",
       "      <th>estado_civil</th>\n",
       "      <th>tipo_residencia</th>\n",
       "      <th>idade</th>\n",
       "      <th>tempo_emprego</th>\n",
       "      <th>possui_celular</th>\n",
       "      <th>possui_fone_comercial</th>\n",
       "      <th>possui_fone</th>\n",
       "      <th>possui_email</th>\n",
       "      <th>qt_pessoas_residencia</th>\n",
       "      <th>mau</th>\n",
       "    </tr>\n",
       "  </thead>\n",
       "  <tbody>\n",
       "    <tr>\n",
       "      <th>0</th>\n",
       "      <td>M</td>\n",
       "      <td>Y</td>\n",
       "      <td>Y</td>\n",
       "      <td>0</td>\n",
       "      <td>Working</td>\n",
       "      <td>Secondary / secondary special</td>\n",
       "      <td>Married</td>\n",
       "      <td>House / apartment</td>\n",
       "      <td>58.832877</td>\n",
       "      <td>3.106849</td>\n",
       "      <td>1</td>\n",
       "      <td>0</td>\n",
       "      <td>0</td>\n",
       "      <td>0</td>\n",
       "      <td>2.0</td>\n",
       "      <td>False</td>\n",
       "    </tr>\n",
       "  </tbody>\n",
       "</table>\n",
       "</div>"
      ],
      "text/plain": [
       "  sexo posse_de_veiculo posse_de_imovel  qtd_filhos tipo_renda  \\\n",
       "0    M                Y               Y           0    Working   \n",
       "\n",
       "                        educacao estado_civil    tipo_residencia      idade  \\\n",
       "0  Secondary / secondary special      Married  House / apartment  58.832877   \n",
       "\n",
       "   tempo_emprego  possui_celular  possui_fone_comercial  possui_fone  \\\n",
       "0       3.106849               1                      0            0   \n",
       "\n",
       "   possui_email  qt_pessoas_residencia    mau  \n",
       "0             0                    2.0  False  "
      ]
     },
     "execution_count": 6,
     "metadata": {},
     "output_type": "execute_result"
    }
   ],
   "source": [
    "df_adimplentes.head(1)"
   ]
  },
  {
   "cell_type": "code",
   "execution_count": 7,
   "id": "b0070a53",
   "metadata": {
    "execution": {
     "iopub.execute_input": "2024-06-16T20:00:46.379044Z",
     "iopub.status.busy": "2024-06-16T20:00:46.378625Z",
     "iopub.status.idle": "2024-06-16T20:00:46.398604Z",
     "shell.execute_reply": "2024-06-16T20:00:46.397585Z"
    },
    "papermill": {
     "duration": 0.040101,
     "end_time": "2024-06-16T20:00:46.400969",
     "exception": false,
     "start_time": "2024-06-16T20:00:46.360868",
     "status": "completed"
    },
    "tags": []
   },
   "outputs": [
    {
     "data": {
      "text/html": [
       "<div>\n",
       "<style scoped>\n",
       "    .dataframe tbody tr th:only-of-type {\n",
       "        vertical-align: middle;\n",
       "    }\n",
       "\n",
       "    .dataframe tbody tr th {\n",
       "        vertical-align: top;\n",
       "    }\n",
       "\n",
       "    .dataframe thead th {\n",
       "        text-align: right;\n",
       "    }\n",
       "</style>\n",
       "<table border=\"1\" class=\"dataframe\">\n",
       "  <thead>\n",
       "    <tr style=\"text-align: right;\">\n",
       "      <th></th>\n",
       "      <th>sexo</th>\n",
       "      <th>posse_de_veiculo</th>\n",
       "      <th>posse_de_imovel</th>\n",
       "      <th>qtd_filhos</th>\n",
       "      <th>tipo_renda</th>\n",
       "      <th>educacao</th>\n",
       "      <th>estado_civil</th>\n",
       "      <th>tipo_residencia</th>\n",
       "      <th>idade</th>\n",
       "      <th>tempo_emprego</th>\n",
       "      <th>possui_celular</th>\n",
       "      <th>possui_fone_comercial</th>\n",
       "      <th>possui_fone</th>\n",
       "      <th>possui_email</th>\n",
       "      <th>qt_pessoas_residencia</th>\n",
       "      <th>mau</th>\n",
       "    </tr>\n",
       "  </thead>\n",
       "  <tbody>\n",
       "    <tr>\n",
       "      <th>284</th>\n",
       "      <td>F</td>\n",
       "      <td>N</td>\n",
       "      <td>N</td>\n",
       "      <td>0</td>\n",
       "      <td>Working</td>\n",
       "      <td>Secondary / secondary special</td>\n",
       "      <td>Married</td>\n",
       "      <td>House / apartment</td>\n",
       "      <td>52.890411</td>\n",
       "      <td>9.030137</td>\n",
       "      <td>1</td>\n",
       "      <td>1</td>\n",
       "      <td>0</td>\n",
       "      <td>0</td>\n",
       "      <td>2.0</td>\n",
       "      <td>True</td>\n",
       "    </tr>\n",
       "  </tbody>\n",
       "</table>\n",
       "</div>"
      ],
      "text/plain": [
       "    sexo posse_de_veiculo posse_de_imovel  qtd_filhos tipo_renda  \\\n",
       "284    F                N               N           0    Working   \n",
       "\n",
       "                          educacao estado_civil    tipo_residencia      idade  \\\n",
       "284  Secondary / secondary special      Married  House / apartment  52.890411   \n",
       "\n",
       "     tempo_emprego  possui_celular  possui_fone_comercial  possui_fone  \\\n",
       "284       9.030137               1                      1            0   \n",
       "\n",
       "     possui_email  qt_pessoas_residencia   mau  \n",
       "284             0                    2.0  True  "
      ]
     },
     "execution_count": 7,
     "metadata": {},
     "output_type": "execute_result"
    }
   ],
   "source": [
    "df_inadimplentes.head(1)"
   ]
  },
  {
   "cell_type": "code",
   "execution_count": 8,
   "id": "4069d951",
   "metadata": {
    "execution": {
     "iopub.execute_input": "2024-06-16T20:00:46.437358Z",
     "iopub.status.busy": "2024-06-16T20:00:46.436971Z",
     "iopub.status.idle": "2024-06-16T20:00:46.444670Z",
     "shell.execute_reply": "2024-06-16T20:00:46.443316Z"
    },
    "papermill": {
     "duration": 0.03023,
     "end_time": "2024-06-16T20:00:46.447724",
     "exception": false,
     "start_time": "2024-06-16T20:00:46.417494",
     "status": "completed"
    },
    "tags": []
   },
   "outputs": [
    {
     "name": "stdout",
     "output_type": "stream",
     "text": [
      "mau\n",
      "False    16260\n",
      "True       390\n",
      "Name: count, dtype: int64\n"
     ]
    }
   ],
   "source": [
    "print(df['mau'].value_counts())\n"
   ]
  },
  {
   "cell_type": "markdown",
   "id": "4d470d44",
   "metadata": {
    "papermill": {
     "duration": 0.017247,
     "end_time": "2024-06-16T20:00:46.482451",
     "exception": false,
     "start_time": "2024-06-16T20:00:46.465204",
     "status": "completed"
    },
    "tags": []
   },
   "source": [
    "# Entendendo os dados"
   ]
  },
  {
   "cell_type": "markdown",
   "id": "0a9b4d8a",
   "metadata": {
    "papermill": {
     "duration": 0.016536,
     "end_time": "2024-06-16T20:00:46.517008",
     "exception": false,
     "start_time": "2024-06-16T20:00:46.500472",
     "status": "completed"
    },
    "tags": []
   },
   "source": [
    "### Descobrindo a distribuição dos clientes"
   ]
  },
  {
   "cell_type": "code",
   "execution_count": 9,
   "id": "ae00d02b",
   "metadata": {
    "execution": {
     "iopub.execute_input": "2024-06-16T20:00:46.552428Z",
     "iopub.status.busy": "2024-06-16T20:00:46.552014Z",
     "iopub.status.idle": "2024-06-16T20:00:46.806958Z",
     "shell.execute_reply": "2024-06-16T20:00:46.805666Z"
    },
    "papermill": {
     "duration": 0.275797,
     "end_time": "2024-06-16T20:00:46.809548",
     "exception": false,
     "start_time": "2024-06-16T20:00:46.533751",
     "status": "completed"
    },
    "tags": []
   },
   "outputs": [
    {
     "data": {
      "image/png": "[encoded data removed]",
      "text/plain": [
       "<Figure size 640x480 with 1 Axes>"
      ]
     },
     "metadata": {},
     "output_type": "display_data"
    }
   ],
   "source": [
    "ax = sns.countplot(data=df, x='mau', hue='mau', legend=False)\n",
    "ax.set_title('Distribuição do perfil dos clientes', fontweight='bold')\n",
    "\n",
    "tick_positions = [0, 1]\n",
    "ax.set_xticks(tick_positions)\n",
    "\n",
    "ax.set_xticklabels(['Adimplente', 'Inadimplente'], fontweight='bold')\n",
    "ax.set_xlabel('')\n",
    "ax.grid(False)\n",
    "ax.yaxis.set_visible(False)\n",
    "\n",
    "total = len(df)\n",
    "counts = [count.get_height() for count in ax.patches]\n",
    "percentages = [(count / total) * 100 for count in counts]\n",
    "\n",
    "for count, percentage in zip(ax.patches, percentages):\n",
    "    x = count.get_x() + count.get_width() / 2\n",
    "    y = count.get_height()\n",
    "    ax.annotate(f\"{percentage:.1f}%\", (x, y), ha='center', va='bottom')\n",
    "plt.show()"
   ]
  },
  {
   "cell_type": "markdown",
   "id": "d0b5fda0",
   "metadata": {
    "papermill": {
     "duration": 0.017029,
     "end_time": "2024-06-16T20:00:46.843977",
     "exception": false,
     "start_time": "2024-06-16T20:00:46.826948",
     "status": "completed"
    },
    "tags": []
   },
   "source": [
    "## Avaliando a presença de dados nulos"
   ]
  },
  {
   "cell_type": "code",
   "execution_count": 10,
   "id": "6afe14b3",
   "metadata": {
    "execution": {
     "iopub.execute_input": "2024-06-16T20:00:46.881482Z",
     "iopub.status.busy": "2024-06-16T20:00:46.881084Z",
     "iopub.status.idle": "2024-06-16T20:00:46.898036Z",
     "shell.execute_reply": "2024-06-16T20:00:46.896872Z"
    },
    "papermill": {
     "duration": 0.038863,
     "end_time": "2024-06-16T20:00:46.900739",
     "exception": false,
     "start_time": "2024-06-16T20:00:46.861876",
     "status": "completed"
    },
    "tags": []
   },
   "outputs": [
    {
     "data": {
      "text/plain": [
       "sexo                     False\n",
       "posse_de_veiculo         False\n",
       "posse_de_imovel          False\n",
       "qtd_filhos               False\n",
       "tipo_renda               False\n",
       "educacao                 False\n",
       "estado_civil             False\n",
       "tipo_residencia          False\n",
       "idade                    False\n",
       "tempo_emprego            False\n",
       "possui_celular           False\n",
       "possui_fone_comercial    False\n",
       "possui_fone              False\n",
       "possui_email             False\n",
       "qt_pessoas_residencia    False\n",
       "mau                      False\n",
       "dtype: bool"
      ]
     },
     "execution_count": 10,
     "metadata": {},
     "output_type": "execute_result"
    }
   ],
   "source": [
    "df.isna().any()"
   ]
  },
  {
   "cell_type": "markdown",
   "id": "e0d3941b",
   "metadata": {
    "papermill": {
     "duration": 0.017028,
     "end_time": "2024-06-16T20:00:46.935807",
     "exception": false,
     "start_time": "2024-06-16T20:00:46.918779",
     "status": "completed"
    },
    "tags": []
   },
   "source": [
    "## Identificando os tipos das variáveis para visualização dos dados"
   ]
  },
  {
   "cell_type": "code",
   "execution_count": 11,
   "id": "97acaf9a",
   "metadata": {
    "execution": {
     "iopub.execute_input": "2024-06-16T20:00:47.035842Z",
     "iopub.status.busy": "2024-06-16T20:00:47.035479Z",
     "iopub.status.idle": "2024-06-16T20:00:47.044475Z",
     "shell.execute_reply": "2024-06-16T20:00:47.043390Z"
    },
    "papermill": {
     "duration": 0.09306,
     "end_time": "2024-06-16T20:00:47.046837",
     "exception": false,
     "start_time": "2024-06-16T20:00:46.953777",
     "status": "completed"
    },
    "tags": []
   },
   "outputs": [
    {
     "data": {
      "text/plain": [
       "sexo                      object\n",
       "posse_de_veiculo          object\n",
       "posse_de_imovel           object\n",
       "qtd_filhos                 int64\n",
       "tipo_renda                object\n",
       "educacao                  object\n",
       "estado_civil              object\n",
       "tipo_residencia           object\n",
       "idade                    float64\n",
       "tempo_emprego            float64\n",
       "possui_celular             int64\n",
       "possui_fone_comercial      int64\n",
       "possui_fone                int64\n",
       "possui_email               int64\n",
       "qt_pessoas_residencia    float64\n",
       "mau                         bool\n",
       "dtype: object"
      ]
     },
     "execution_count": 11,
     "metadata": {},
     "output_type": "execute_result"
    }
   ],
   "source": [
    "df.dtypes"
   ]
  },
  {
   "cell_type": "code",
   "execution_count": 12,
   "id": "c4f433f4",
   "metadata": {
    "execution": {
     "iopub.execute_input": "2024-06-16T20:00:47.086218Z",
     "iopub.status.busy": "2024-06-16T20:00:47.085247Z",
     "iopub.status.idle": "2024-06-16T20:00:47.107458Z",
     "shell.execute_reply": "2024-06-16T20:00:47.106352Z"
    },
    "papermill": {
     "duration": 0.045035,
     "end_time": "2024-06-16T20:00:47.110328",
     "exception": false,
     "start_time": "2024-06-16T20:00:47.065293",
     "status": "completed"
    },
    "tags": []
   },
   "outputs": [
    {
     "data": {
      "text/html": [
       "<div>\n",
       "<style scoped>\n",
       "    .dataframe tbody tr th:only-of-type {\n",
       "        vertical-align: middle;\n",
       "    }\n",
       "\n",
       "    .dataframe tbody tr th {\n",
       "        vertical-align: top;\n",
       "    }\n",
       "\n",
       "    .dataframe thead th {\n",
       "        text-align: right;\n",
       "    }\n",
       "</style>\n",
       "<table border=\"1\" class=\"dataframe\">\n",
       "  <thead>\n",
       "    <tr style=\"text-align: right;\">\n",
       "      <th></th>\n",
       "      <th>qtd_filhos</th>\n",
       "      <th>idade</th>\n",
       "      <th>tempo_emprego</th>\n",
       "      <th>possui_fone_comercial</th>\n",
       "      <th>possui_fone</th>\n",
       "      <th>possui_email</th>\n",
       "      <th>qt_pessoas_residencia</th>\n",
       "    </tr>\n",
       "  </thead>\n",
       "  <tbody>\n",
       "    <tr>\n",
       "      <th>qtd_filhos</th>\n",
       "      <td>1.000000</td>\n",
       "      <td>-0.370128</td>\n",
       "      <td>0.236177</td>\n",
       "      <td>0.050690</td>\n",
       "      <td>-0.016628</td>\n",
       "      <td>0.027098</td>\n",
       "      <td>0.890381</td>\n",
       "    </tr>\n",
       "    <tr>\n",
       "      <th>idade</th>\n",
       "      <td>-0.370128</td>\n",
       "      <td>1.000000</td>\n",
       "      <td>-0.615147</td>\n",
       "      <td>-0.183015</td>\n",
       "      <td>0.020359</td>\n",
       "      <td>-0.101443</td>\n",
       "      <td>-0.342012</td>\n",
       "    </tr>\n",
       "    <tr>\n",
       "      <th>tempo_emprego</th>\n",
       "      <td>0.236177</td>\n",
       "      <td>-0.615147</td>\n",
       "      <td>1.000000</td>\n",
       "      <td>0.242092</td>\n",
       "      <td>0.013084</td>\n",
       "      <td>0.081818</td>\n",
       "      <td>0.229619</td>\n",
       "    </tr>\n",
       "    <tr>\n",
       "      <th>possui_fone_comercial</th>\n",
       "      <td>0.050690</td>\n",
       "      <td>-0.183015</td>\n",
       "      <td>0.242092</td>\n",
       "      <td>1.000000</td>\n",
       "      <td>0.315130</td>\n",
       "      <td>-0.038060</td>\n",
       "      <td>0.067520</td>\n",
       "    </tr>\n",
       "    <tr>\n",
       "      <th>possui_fone</th>\n",
       "      <td>-0.016628</td>\n",
       "      <td>0.020359</td>\n",
       "      <td>0.013084</td>\n",
       "      <td>0.315130</td>\n",
       "      <td>1.000000</td>\n",
       "      <td>0.019609</td>\n",
       "      <td>-0.002205</td>\n",
       "    </tr>\n",
       "    <tr>\n",
       "      <th>possui_email</th>\n",
       "      <td>0.027098</td>\n",
       "      <td>-0.101443</td>\n",
       "      <td>0.081818</td>\n",
       "      <td>-0.038060</td>\n",
       "      <td>0.019609</td>\n",
       "      <td>1.000000</td>\n",
       "      <td>0.028584</td>\n",
       "    </tr>\n",
       "    <tr>\n",
       "      <th>qt_pessoas_residencia</th>\n",
       "      <td>0.890381</td>\n",
       "      <td>-0.342012</td>\n",
       "      <td>0.229619</td>\n",
       "      <td>0.067520</td>\n",
       "      <td>-0.002205</td>\n",
       "      <td>0.028584</td>\n",
       "      <td>1.000000</td>\n",
       "    </tr>\n",
       "  </tbody>\n",
       "</table>\n",
       "</div>"
      ],
      "text/plain": [
       "                       qtd_filhos     idade  tempo_emprego  \\\n",
       "qtd_filhos               1.000000 -0.370128       0.236177   \n",
       "idade                   -0.370128  1.000000      -0.615147   \n",
       "tempo_emprego            0.236177 -0.615147       1.000000   \n",
       "possui_fone_comercial    0.050690 -0.183015       0.242092   \n",
       "possui_fone             -0.016628  0.020359       0.013084   \n",
       "possui_email             0.027098 -0.101443       0.081818   \n",
       "qt_pessoas_residencia    0.890381 -0.342012       0.229619   \n",
       "\n",
       "                       possui_fone_comercial  possui_fone  possui_email  \\\n",
       "qtd_filhos                          0.050690    -0.016628      0.027098   \n",
       "idade                              -0.183015     0.020359     -0.101443   \n",
       "tempo_emprego                       0.242092     0.013084      0.081818   \n",
       "possui_fone_comercial               1.000000     0.315130     -0.038060   \n",
       "possui_fone                         0.315130     1.000000      0.019609   \n",
       "possui_email                       -0.038060     0.019609      1.000000   \n",
       "qt_pessoas_residencia               0.067520    -0.002205      0.028584   \n",
       "\n",
       "                       qt_pessoas_residencia  \n",
       "qtd_filhos                          0.890381  \n",
       "idade                              -0.342012  \n",
       "tempo_emprego                       0.229619  \n",
       "possui_fone_comercial               0.067520  \n",
       "possui_fone                        -0.002205  \n",
       "possui_email                        0.028584  \n",
       "qt_pessoas_residencia               1.000000  "
      ]
     },
     "execution_count": 12,
     "metadata": {},
     "output_type": "execute_result"
    }
   ],
   "source": [
    "df.drop(['possui_celular'], axis=1).select_dtypes('number').corr()\n"
   ]
  },
  {
   "cell_type": "code",
   "execution_count": 13,
   "id": "c71c6961",
   "metadata": {
    "execution": {
     "iopub.execute_input": "2024-06-16T20:00:47.148474Z",
     "iopub.status.busy": "2024-06-16T20:00:47.148092Z",
     "iopub.status.idle": "2024-06-16T20:00:47.188480Z",
     "shell.execute_reply": "2024-06-16T20:00:47.187324Z"
    },
    "papermill": {
     "duration": 0.062534,
     "end_time": "2024-06-16T20:00:47.190994",
     "exception": false,
     "start_time": "2024-06-16T20:00:47.128460",
     "status": "completed"
    },
    "scrolled": true,
    "tags": []
   },
   "outputs": [
    {
     "data": {
      "text/html": [
       "<div>\n",
       "<style scoped>\n",
       "    .dataframe tbody tr th:only-of-type {\n",
       "        vertical-align: middle;\n",
       "    }\n",
       "\n",
       "    .dataframe tbody tr th {\n",
       "        vertical-align: top;\n",
       "    }\n",
       "\n",
       "    .dataframe thead th {\n",
       "        text-align: right;\n",
       "    }\n",
       "</style>\n",
       "<table border=\"1\" class=\"dataframe\">\n",
       "  <thead>\n",
       "    <tr style=\"text-align: right;\">\n",
       "      <th></th>\n",
       "      <th>count</th>\n",
       "      <th>mean</th>\n",
       "      <th>std</th>\n",
       "      <th>min</th>\n",
       "      <th>25%</th>\n",
       "      <th>50%</th>\n",
       "      <th>75%</th>\n",
       "      <th>max</th>\n",
       "    </tr>\n",
       "  </thead>\n",
       "  <tbody>\n",
       "    <tr>\n",
       "      <th>qtd_filhos</th>\n",
       "      <td>16650.0</td>\n",
       "      <td>0.433153</td>\n",
       "      <td>0.739395</td>\n",
       "      <td>0.000000</td>\n",
       "      <td>0.000000</td>\n",
       "      <td>0.000000</td>\n",
       "      <td>1.000000</td>\n",
       "      <td>14.000000</td>\n",
       "    </tr>\n",
       "    <tr>\n",
       "      <th>idade</th>\n",
       "      <td>16650.0</td>\n",
       "      <td>44.319513</td>\n",
       "      <td>11.228837</td>\n",
       "      <td>22.030137</td>\n",
       "      <td>34.873973</td>\n",
       "      <td>43.493151</td>\n",
       "      <td>53.410959</td>\n",
       "      <td>68.909589</td>\n",
       "    </tr>\n",
       "    <tr>\n",
       "      <th>tempo_emprego</th>\n",
       "      <td>16650.0</td>\n",
       "      <td>-161.416446</td>\n",
       "      <td>376.843912</td>\n",
       "      <td>-1000.665753</td>\n",
       "      <td>1.183562</td>\n",
       "      <td>4.691781</td>\n",
       "      <td>9.088356</td>\n",
       "      <td>42.906849</td>\n",
       "    </tr>\n",
       "    <tr>\n",
       "      <th>possui_celular</th>\n",
       "      <td>16650.0</td>\n",
       "      <td>1.000000</td>\n",
       "      <td>0.000000</td>\n",
       "      <td>1.000000</td>\n",
       "      <td>1.000000</td>\n",
       "      <td>1.000000</td>\n",
       "      <td>1.000000</td>\n",
       "      <td>1.000000</td>\n",
       "    </tr>\n",
       "    <tr>\n",
       "      <th>possui_fone_comercial</th>\n",
       "      <td>16650.0</td>\n",
       "      <td>0.225225</td>\n",
       "      <td>0.417743</td>\n",
       "      <td>0.000000</td>\n",
       "      <td>0.000000</td>\n",
       "      <td>0.000000</td>\n",
       "      <td>0.000000</td>\n",
       "      <td>1.000000</td>\n",
       "    </tr>\n",
       "    <tr>\n",
       "      <th>possui_fone</th>\n",
       "      <td>16650.0</td>\n",
       "      <td>0.295676</td>\n",
       "      <td>0.456360</td>\n",
       "      <td>0.000000</td>\n",
       "      <td>0.000000</td>\n",
       "      <td>0.000000</td>\n",
       "      <td>1.000000</td>\n",
       "      <td>1.000000</td>\n",
       "    </tr>\n",
       "    <tr>\n",
       "      <th>possui_email</th>\n",
       "      <td>16650.0</td>\n",
       "      <td>0.088889</td>\n",
       "      <td>0.284592</td>\n",
       "      <td>0.000000</td>\n",
       "      <td>0.000000</td>\n",
       "      <td>0.000000</td>\n",
       "      <td>0.000000</td>\n",
       "      <td>1.000000</td>\n",
       "    </tr>\n",
       "    <tr>\n",
       "      <th>qt_pessoas_residencia</th>\n",
       "      <td>16650.0</td>\n",
       "      <td>2.211892</td>\n",
       "      <td>0.903755</td>\n",
       "      <td>1.000000</td>\n",
       "      <td>2.000000</td>\n",
       "      <td>2.000000</td>\n",
       "      <td>3.000000</td>\n",
       "      <td>15.000000</td>\n",
       "    </tr>\n",
       "  </tbody>\n",
       "</table>\n",
       "</div>"
      ],
      "text/plain": [
       "                         count        mean         std          min  \\\n",
       "qtd_filhos             16650.0    0.433153    0.739395     0.000000   \n",
       "idade                  16650.0   44.319513   11.228837    22.030137   \n",
       "tempo_emprego          16650.0 -161.416446  376.843912 -1000.665753   \n",
       "possui_celular         16650.0    1.000000    0.000000     1.000000   \n",
       "possui_fone_comercial  16650.0    0.225225    0.417743     0.000000   \n",
       "possui_fone            16650.0    0.295676    0.456360     0.000000   \n",
       "possui_email           16650.0    0.088889    0.284592     0.000000   \n",
       "qt_pessoas_residencia  16650.0    2.211892    0.903755     1.000000   \n",
       "\n",
       "                             25%        50%        75%        max  \n",
       "qtd_filhos              0.000000   0.000000   1.000000  14.000000  \n",
       "idade                  34.873973  43.493151  53.410959  68.909589  \n",
       "tempo_emprego           1.183562   4.691781   9.088356  42.906849  \n",
       "possui_celular          1.000000   1.000000   1.000000   1.000000  \n",
       "possui_fone_comercial   0.000000   0.000000   0.000000   1.000000  \n",
       "possui_fone             0.000000   0.000000   1.000000   1.000000  \n",
       "possui_email            0.000000   0.000000   0.000000   1.000000  \n",
       "qt_pessoas_residencia   2.000000   2.000000   3.000000  15.000000  "
      ]
     },
     "execution_count": 13,
     "metadata": {},
     "output_type": "execute_result"
    }
   ],
   "source": [
    "df.select_dtypes('number').describe().transpose()\n"
   ]
  },
  {
   "cell_type": "markdown",
   "id": "232a06c9",
   "metadata": {
    "papermill": {
     "duration": 0.018492,
     "end_time": "2024-06-16T20:00:47.228112",
     "exception": false,
     "start_time": "2024-06-16T20:00:47.209620",
     "status": "completed"
    },
    "tags": []
   },
   "source": [
    "Tabela de correlação entre as variáveis numéricas para facilitar a exploração dos dados"
   ]
  },
  {
   "cell_type": "code",
   "execution_count": 14,
   "id": "55112f23",
   "metadata": {
    "execution": {
     "iopub.execute_input": "2024-06-16T20:00:47.265956Z",
     "iopub.status.busy": "2024-06-16T20:00:47.265578Z",
     "iopub.status.idle": "2024-06-16T20:00:47.302737Z",
     "shell.execute_reply": "2024-06-16T20:00:47.301490Z"
    },
    "papermill": {
     "duration": 0.059494,
     "end_time": "2024-06-16T20:00:47.305544",
     "exception": false,
     "start_time": "2024-06-16T20:00:47.246050",
     "status": "completed"
    },
    "tags": []
   },
   "outputs": [
    {
     "data": {
      "text/html": [
       "<div>\n",
       "<style scoped>\n",
       "    .dataframe tbody tr th:only-of-type {\n",
       "        vertical-align: middle;\n",
       "    }\n",
       "\n",
       "    .dataframe tbody tr th {\n",
       "        vertical-align: top;\n",
       "    }\n",
       "\n",
       "    .dataframe thead th {\n",
       "        text-align: right;\n",
       "    }\n",
       "</style>\n",
       "<table border=\"1\" class=\"dataframe\">\n",
       "  <thead>\n",
       "    <tr style=\"text-align: right;\">\n",
       "      <th></th>\n",
       "      <th>count</th>\n",
       "      <th>unique</th>\n",
       "      <th>top</th>\n",
       "      <th>freq</th>\n",
       "    </tr>\n",
       "  </thead>\n",
       "  <tbody>\n",
       "    <tr>\n",
       "      <th>sexo</th>\n",
       "      <td>16650</td>\n",
       "      <td>2</td>\n",
       "      <td>F</td>\n",
       "      <td>11201</td>\n",
       "    </tr>\n",
       "    <tr>\n",
       "      <th>posse_de_veiculo</th>\n",
       "      <td>16650</td>\n",
       "      <td>2</td>\n",
       "      <td>N</td>\n",
       "      <td>10178</td>\n",
       "    </tr>\n",
       "    <tr>\n",
       "      <th>posse_de_imovel</th>\n",
       "      <td>16650</td>\n",
       "      <td>2</td>\n",
       "      <td>Y</td>\n",
       "      <td>11176</td>\n",
       "    </tr>\n",
       "    <tr>\n",
       "      <th>tipo_renda</th>\n",
       "      <td>16650</td>\n",
       "      <td>5</td>\n",
       "      <td>Working</td>\n",
       "      <td>8565</td>\n",
       "    </tr>\n",
       "    <tr>\n",
       "      <th>educacao</th>\n",
       "      <td>16650</td>\n",
       "      <td>5</td>\n",
       "      <td>Secondary / secondary special</td>\n",
       "      <td>11245</td>\n",
       "    </tr>\n",
       "    <tr>\n",
       "      <th>estado_civil</th>\n",
       "      <td>16650</td>\n",
       "      <td>5</td>\n",
       "      <td>Married</td>\n",
       "      <td>11680</td>\n",
       "    </tr>\n",
       "    <tr>\n",
       "      <th>tipo_residencia</th>\n",
       "      <td>16650</td>\n",
       "      <td>6</td>\n",
       "      <td>House / apartment</td>\n",
       "      <td>14974</td>\n",
       "    </tr>\n",
       "  </tbody>\n",
       "</table>\n",
       "</div>"
      ],
      "text/plain": [
       "                  count unique                            top   freq\n",
       "sexo              16650      2                              F  11201\n",
       "posse_de_veiculo  16650      2                              N  10178\n",
       "posse_de_imovel   16650      2                              Y  11176\n",
       "tipo_renda        16650      5                        Working   8565\n",
       "educacao          16650      5  Secondary / secondary special  11245\n",
       "estado_civil      16650      5                        Married  11680\n",
       "tipo_residencia   16650      6              House / apartment  14974"
      ]
     },
     "execution_count": 14,
     "metadata": {},
     "output_type": "execute_result"
    }
   ],
   "source": [
    "df.select_dtypes('object').describe().transpose()\n"
   ]
  },
  {
   "cell_type": "markdown",
   "id": "0357580c",
   "metadata": {
    "papermill": {
     "duration": 0.019472,
     "end_time": "2024-06-16T20:00:47.345982",
     "exception": false,
     "start_time": "2024-06-16T20:00:47.326510",
     "status": "completed"
    },
    "tags": []
   },
   "source": [
    "# Visualização dos dados categóricos/binários\n"
   ]
  },
  {
   "cell_type": "code",
   "execution_count": 15,
   "id": "45cefde0",
   "metadata": {
    "execution": {
     "iopub.execute_input": "2024-06-16T20:00:47.388782Z",
     "iopub.status.busy": "2024-06-16T20:00:47.387761Z",
     "iopub.status.idle": "2024-06-16T20:00:47.875914Z",
     "shell.execute_reply": "2024-06-16T20:00:47.874708Z"
    },
    "papermill": {
     "duration": 0.513275,
     "end_time": "2024-06-16T20:00:47.878986",
     "exception": false,
     "start_time": "2024-06-16T20:00:47.365711",
     "status": "completed"
    },
    "tags": []
   },
   "outputs": [
    {
     "data": {
      "image/png": "[encoded data removed]",
      "text/plain": [
       "<Figure size 1800x600 with 3 Axes>"
      ]
     },
     "metadata": {},
     "output_type": "display_data"
    }
   ],
   "source": [
    "titles = ['Gênero', 'Posse de Veículo', 'Posse de Imóvel']\n",
    "columns = ['sexo', 'posse_de_veiculo', 'posse_de_imovel']\n",
    "labels = [\n",
    "    ['Feminino', 'Masculino'],\n",
    "    ['Não possui veículos', 'Possui veículos'],\n",
    "    ['Possui Imóvel', 'Não possui imóvel'],\n",
    "    ['Possui', 'Não possui']\n",
    "]\n",
    "\n",
    "fig, axs = plt.subplots(1, 3, figsize=(18, 6))\n",
    "\n",
    "for i in range(3):\n",
    "    counts = df[columns[i]].value_counts()\n",
    "    axs[i].pie(counts, labels=labels[i], autopct='%1.1f%%')\n",
    "    axs[i].set_title(titles[i])\n",
    "\n",
    "plt.tight_layout()\n",
    "\n",
    "plt.show()"
   ]
  },
  {
   "cell_type": "markdown",
   "id": "f0aded4b",
   "metadata": {
    "papermill": {
     "duration": 0.020328,
     "end_time": "2024-06-16T20:00:47.919310",
     "exception": false,
     "start_time": "2024-06-16T20:00:47.898982",
     "status": "completed"
    },
    "tags": []
   },
   "source": [
    "A maioria dos clientes é do sexo feminino, não possui veículos e possuui imóvel"
   ]
  },
  {
   "cell_type": "code",
   "execution_count": 16,
   "id": "f0821bce",
   "metadata": {
    "execution": {
     "iopub.execute_input": "2024-06-16T20:00:47.963723Z",
     "iopub.status.busy": "2024-06-16T20:00:47.963317Z",
     "iopub.status.idle": "2024-06-16T20:00:48.203405Z",
     "shell.execute_reply": "2024-06-16T20:00:48.202189Z"
    },
    "papermill": {
     "duration": 0.264983,
     "end_time": "2024-06-16T20:00:48.205952",
     "exception": false,
     "start_time": "2024-06-16T20:00:47.940969",
     "status": "completed"
    },
    "tags": []
   },
   "outputs": [
    {
     "data": {
      "image/png": "[encoded data removed]",
      "text/plain": [
       "<Figure size 1000x600 with 1 Axes>"
      ]
     },
     "metadata": {},
     "output_type": "display_data"
    }
   ],
   "source": [
    "plt.figure(figsize=(10, 6))\n",
    "\n",
    "ax = sns.countplot(data=df, x='sexo', hue='mau')\n",
    "ax.set_title('Gênero', fontweight='bold')\n",
    "\n",
    "tick_positions = [0, 1]\n",
    "ax.set_xticks(tick_positions)\n",
    "ax.set_xticklabels(['Homem', 'Mulher'], fontweight='bold')\n",
    "ax.set_xlabel('')\n",
    "ax.grid(False)\n",
    "ax.yaxis.set_visible(False)\n",
    "\n",
    "leg_labels = ['Adimplentes', 'Inadimplentes']\n",
    "handles, _ = ax.get_legend_handles_labels()\n",
    "ax.legend(handles, leg_labels, title='Perfil dos clientes', title_fontsize='13', fontsize='11', loc='upper right')\n",
    "\n",
    "total = len(df)\n",
    "counts = [count.get_height() for count in ax.patches]\n",
    "percentages = [(count / total) * 100 for count in counts]\n",
    "\n",
    "for count, percentage in zip(ax.patches, percentages):\n",
    "    if percentage > 0:\n",
    "        x = count.get_x() + count.get_width() / 2\n",
    "        y = count.get_height()\n",
    "        ax.annotate(f\"{percentage:.1f}%\", (x, y), ha='center', va='bottom')\n",
    "\n",
    "\n",
    "plt.show()"
   ]
  },
  {
   "cell_type": "markdown",
   "id": "e95e13cf",
   "metadata": {
    "papermill": {
     "duration": 0.019573,
     "end_time": "2024-06-16T20:00:48.245247",
     "exception": false,
     "start_time": "2024-06-16T20:00:48.225674",
     "status": "completed"
    },
    "tags": []
   },
   "source": [
    "A maior parte dos clientes é do sexo feminino.\n",
    "O sexo não pareceu ser determinante para a determinação de adimplência do cliente"
   ]
  },
  {
   "cell_type": "code",
   "execution_count": 17,
   "id": "af37b917",
   "metadata": {
    "execution": {
     "iopub.execute_input": "2024-06-16T20:00:48.286420Z",
     "iopub.status.busy": "2024-06-16T20:00:48.285997Z",
     "iopub.status.idle": "2024-06-16T20:00:48.526542Z",
     "shell.execute_reply": "2024-06-16T20:00:48.525279Z"
    },
    "papermill": {
     "duration": 0.263906,
     "end_time": "2024-06-16T20:00:48.528872",
     "exception": false,
     "start_time": "2024-06-16T20:00:48.264966",
     "status": "completed"
    },
    "tags": []
   },
   "outputs": [
    {
     "data": {
      "image/png": "[encoded data removed]",
      "text/plain": [
       "<Figure size 1000x600 with 1 Axes>"
      ]
     },
     "metadata": {},
     "output_type": "display_data"
    }
   ],
   "source": [
    "plt.figure(figsize=(10, 6))\n",
    "\n",
    "\n",
    "ax = sns.countplot(data=df, x='possui_fone_comercial', hue='mau')\n",
    "ax.set_title('Posse de telefone comercial', fontweight='bold')\n",
    "\n",
    "tick_positions = [0, 1]\n",
    "ax.set_xticks(tick_positions)\n",
    "ax.set_xticklabels(['Sim', 'Não'], fontweight='bold')\n",
    "ax.set_xlabel('')\n",
    "ax.grid(False)\n",
    "ax.yaxis.set_visible(False)\n",
    "\n",
    "leg_labels = ['Adimplentes', 'Inadimplentes']\n",
    "handles, _ = ax.get_legend_handles_labels()\n",
    "ax.legend(handles, leg_labels, title='Perfil dos clientes', title_fontsize='13', fontsize='11', loc='upper right')\n",
    "\n",
    "total = len(df)\n",
    "counts = [count.get_height() for count in ax.patches]\n",
    "percentages = [(count / total) * 100 for count in counts]\n",
    "\n",
    "for count, percentage in zip(ax.patches, percentages):\n",
    "    if percentage > 0:\n",
    "        x = count.get_x() + count.get_width() / 2\n",
    "        y = count.get_height()\n",
    "        ax.annotate(f\"{percentage:.1f}%\", (x, y), ha='center', va='bottom')\n",
    "\n",
    "plt.show()"
   ]
  },
  {
   "cell_type": "markdown",
   "id": "2cdd06ea",
   "metadata": {
    "papermill": {
     "duration": 0.019762,
     "end_time": "2024-06-16T20:00:48.568873",
     "exception": false,
     "start_time": "2024-06-16T20:00:48.549111",
     "status": "completed"
    },
    "tags": []
   },
   "source": [
    "A maior parte dos clientes possui telefone comercial.\n",
    "A posse de telefone comercial não pareceu ser determinante para a determinação de adimplência do cliente"
   ]
  },
  {
   "cell_type": "code",
   "execution_count": 18,
   "id": "e8f69355",
   "metadata": {
    "execution": {
     "iopub.execute_input": "2024-06-16T20:00:48.611639Z",
     "iopub.status.busy": "2024-06-16T20:00:48.611243Z",
     "iopub.status.idle": "2024-06-16T20:00:48.922397Z",
     "shell.execute_reply": "2024-06-16T20:00:48.921183Z"
    },
    "papermill": {
     "duration": 0.335916,
     "end_time": "2024-06-16T20:00:48.924767",
     "exception": false,
     "start_time": "2024-06-16T20:00:48.588851",
     "status": "completed"
    },
    "tags": []
   },
   "outputs": [
    {
     "data": {
      "image/png": "[encoded data removed]",
      "text/plain": [
       "<Figure size 1000x600 with 1 Axes>"
      ]
     },
     "metadata": {},
     "output_type": "display_data"
    }
   ],
   "source": [
    "plt.figure(figsize=(10, 6))\n",
    "\n",
    "\n",
    "ax = sns.countplot(data=df, x='posse_de_veiculo', hue='mau')\n",
    "ax.set_title('Posse de veículo', fontweight='bold')\n",
    "\n",
    "tick_positions = [0, 1]\n",
    "ax.set_xticks(tick_positions)\n",
    "ax.set_xticklabels(['Sim', 'Não'], fontweight='bold')\n",
    "ax.set_xlabel('')\n",
    "ax.grid(False)\n",
    "ax.yaxis.set_visible(False)\n",
    "\n",
    "leg_labels = ['Adimplentes', 'Inadimplentes']\n",
    "handles, _ = ax.get_legend_handles_labels()\n",
    "ax.legend(handles, leg_labels, title='Perfil dos clientes', title_fontsize='13', fontsize='11', loc='upper right')\n",
    "\n",
    "total = len(df)\n",
    "counts = [count.get_height() for count in ax.patches]\n",
    "percentages = [(count / total) * 100 for count in counts]\n",
    "\n",
    "for count, percentage in zip(ax.patches, percentages):\n",
    "    if percentage > 0:\n",
    "        x = count.get_x() + count.get_width() / 2\n",
    "        y = count.get_height()\n",
    "        ax.annotate(f\"{percentage:.1f}%\", (x, y), ha='center', va='bottom')\n",
    "\n",
    "plt.show()"
   ]
  },
  {
   "cell_type": "markdown",
   "id": "80311acd",
   "metadata": {
    "papermill": {
     "duration": 0.021845,
     "end_time": "2024-06-16T20:00:48.968491",
     "exception": false,
     "start_time": "2024-06-16T20:00:48.946646",
     "status": "completed"
    },
    "tags": []
   },
   "source": [
    "A maior parte dos clientes não possui veículo.\n",
    "A posse de veículo não pareceu ser determinante para a determinação de adimplência do cliente"
   ]
  },
  {
   "cell_type": "code",
   "execution_count": 19,
   "id": "a5da608c",
   "metadata": {
    "execution": {
     "iopub.execute_input": "2024-06-16T20:00:49.014584Z",
     "iopub.status.busy": "2024-06-16T20:00:49.014172Z",
     "iopub.status.idle": "2024-06-16T20:00:49.293736Z",
     "shell.execute_reply": "2024-06-16T20:00:49.292581Z"
    },
    "papermill": {
     "duration": 0.306892,
     "end_time": "2024-06-16T20:00:49.296911",
     "exception": false,
     "start_time": "2024-06-16T20:00:48.990019",
     "status": "completed"
    },
    "tags": []
   },
   "outputs": [
    {
     "data": {
      "image/png": "[encoded data removed]",
      "text/plain": [
       "<Figure size 1000x600 with 1 Axes>"
      ]
     },
     "metadata": {},
     "output_type": "display_data"
    }
   ],
   "source": [
    "plt.figure(figsize=(10, 6))\n",
    "\n",
    "\n",
    "ax = sns.countplot(data=df, x='posse_de_imovel', hue='mau')\n",
    "ax.set_title('Posse de imóvel', fontweight='bold')\n",
    "\n",
    "tick_positions = [0, 1]\n",
    "ax.set_xticks(tick_positions)\n",
    "ax.set_xticklabels(['Sim', 'Não'], fontweight='bold')\n",
    "ax.set_xlabel('')\n",
    "ax.grid(False)\n",
    "ax.yaxis.set_visible(False)\n",
    "\n",
    "leg_labels = ['Adimplentes', 'Inadimplentes']\n",
    "handles, _ = ax.get_legend_handles_labels()\n",
    "ax.legend(handles, leg_labels, title='Perfil dos clientes', title_fontsize='13', fontsize='11', loc='upper right')\n",
    "\n",
    "total = len(df)\n",
    "counts = [count.get_height() for count in ax.patches]\n",
    "percentages = [(count / total) * 100 for count in counts]\n",
    "\n",
    "for count, percentage in zip(ax.patches, percentages):\n",
    "    if percentage > 0:\n",
    "        x = count.get_x() + count.get_width() / 2\n",
    "        y = count.get_height()\n",
    "        ax.annotate(f\"{percentage:.1f}%\", (x, y), ha='center', va='bottom')\n",
    "\n",
    "plt.show()"
   ]
  },
  {
   "cell_type": "markdown",
   "id": "82b05275",
   "metadata": {
    "papermill": {
     "duration": 0.020874,
     "end_time": "2024-06-16T20:00:49.343086",
     "exception": false,
     "start_time": "2024-06-16T20:00:49.322212",
     "status": "completed"
    },
    "tags": []
   },
   "source": [
    "A maior parte dos clientes possui imóvel.\n",
    "A posse do imóvel não pareceu ser determinante para a determinação de adimplência do cliente"
   ]
  },
  {
   "cell_type": "code",
   "execution_count": 20,
   "id": "c9625baa",
   "metadata": {
    "execution": {
     "iopub.execute_input": "2024-06-16T20:00:49.388408Z",
     "iopub.status.busy": "2024-06-16T20:00:49.387325Z",
     "iopub.status.idle": "2024-06-16T20:00:49.779152Z",
     "shell.execute_reply": "2024-06-16T20:00:49.777811Z"
    },
    "papermill": {
     "duration": 0.417505,
     "end_time": "2024-06-16T20:00:49.782095",
     "exception": false,
     "start_time": "2024-06-16T20:00:49.364590",
     "status": "completed"
    },
    "tags": []
   },
   "outputs": [
    {
     "data": {
      "image/png": "[encoded data removed]",
      "text/plain": [
       "<Figure size 1000x600 with 1 Axes>"
      ]
     },
     "metadata": {},
     "output_type": "display_data"
    }
   ],
   "source": [
    "plt.figure(figsize=(10, 6))\n",
    "\n",
    "category_counts = df['tipo_residencia'].value_counts()\n",
    "ordered_categories = category_counts.index.tolist()\n",
    "\n",
    "ax = sns.countplot(data=df, x='tipo_residencia', hue='mau', order=ordered_categories)\n",
    "ax.set_title('Tipo de residência', fontweight='bold')\n",
    "plt.xticks(rotation=45, ha='right')\n",
    "\n",
    "ax.set_xlabel('')\n",
    "ax.grid(False)\n",
    "ax.yaxis.set_visible(False)\n",
    "\n",
    "leg_labels = ['Adimplentes', 'Inadimplentes']\n",
    "handles, _ = ax.get_legend_handles_labels()\n",
    "ax.legend(handles, leg_labels, title='Perfil dos clientes', title_fontsize='13', fontsize='11', loc='upper right')\n",
    "\n",
    "total = len(df)\n",
    "counts = [count.get_height() for count in ax.patches]\n",
    "percentages = [(count / total) * 100 for count in counts]\n",
    "\n",
    "for count, percentage in zip(ax.patches, percentages):\n",
    "    if percentage > 0:\n",
    "        x = count.get_x() + count.get_width() / 2\n",
    "        y = count.get_height()\n",
    "        ax.annotate(f\"{percentage:.1f}%\", (x, y), ha='center', va='bottom')"
   ]
  },
  {
   "cell_type": "code",
   "execution_count": 21,
   "id": "ccffd137",
   "metadata": {
    "execution": {
     "iopub.execute_input": "2024-06-16T20:00:49.828767Z",
     "iopub.status.busy": "2024-06-16T20:00:49.828255Z",
     "iopub.status.idle": "2024-06-16T20:00:50.159615Z",
     "shell.execute_reply": "2024-06-16T20:00:50.158308Z"
    },
    "papermill": {
     "duration": 0.357967,
     "end_time": "2024-06-16T20:00:50.162122",
     "exception": false,
     "start_time": "2024-06-16T20:00:49.804155",
     "status": "completed"
    },
    "tags": []
   },
   "outputs": [
    {
     "data": {
      "image/png": "[encoded data removed]",
      "text/plain": [
       "<Figure size 1000x600 with 1 Axes>"
      ]
     },
     "metadata": {},
     "output_type": "display_data"
    }
   ],
   "source": [
    "plt.figure(figsize=(10, 6))\n",
    "\n",
    "category_counts = df['tipo_renda'].value_counts()\n",
    "ordered_categories = category_counts.index.tolist()\n",
    "\n",
    "ax = sns.countplot(data=df, x='tipo_renda', hue='mau', order=ordered_categories)\n",
    "ax.set_title('Tipo de renda', fontweight='bold')\n",
    "\n",
    "tick_positions = [0, 1, 2, 3, 4]\n",
    "ax.set_xticks(tick_positions)\n",
    "ax.set_xticklabels(['Working', 'Commercial Associate', 'State servant', 'Pensioner', 'Student'], fontweight='bold')\n",
    "ax.set_xlabel('')\n",
    "ax.grid(False)\n",
    "ax.yaxis.set_visible(False)\n",
    "\n",
    "leg_labels = ['Adimplentes', 'Inadimplentes']\n",
    "handles, _ = ax.get_legend_handles_labels()\n",
    "ax.legend(handles, leg_labels, title='Perfil dos clientes', title_fontsize='13', fontsize='11', loc='upper right')\n",
    "\n",
    "total = len(df)\n",
    "counts = [count.get_height() for count in ax.patches]\n",
    "percentages = [(count / total) * 100 for count in counts]\n",
    "\n",
    "for count, percentage in zip(ax.patches, percentages):\n",
    "    if percentage > 0:\n",
    "        x = count.get_x() + count.get_width() / 2\n",
    "        y = count.get_height()\n",
    "        ax.annotate(f\"{percentage:.1f}%\", (x, y), ha='center', va='bottom')\n",
    "\n",
    "plt.show()"
   ]
  },
  {
   "cell_type": "code",
   "execution_count": 22,
   "id": "e428862d",
   "metadata": {
    "execution": {
     "iopub.execute_input": "2024-06-16T20:00:50.208915Z",
     "iopub.status.busy": "2024-06-16T20:00:50.208505Z",
     "iopub.status.idle": "2024-06-16T20:00:50.537680Z",
     "shell.execute_reply": "2024-06-16T20:00:50.536572Z"
    },
    "papermill": {
     "duration": 0.35553,
     "end_time": "2024-06-16T20:00:50.540221",
     "exception": false,
     "start_time": "2024-06-16T20:00:50.184691",
     "status": "completed"
    },
    "tags": []
   },
   "outputs": [
    {
     "data": {
      "image/png": "[encoded data removed]",
      "text/plain": [
       "<Figure size 1000x600 with 1 Axes>"
      ]
     },
     "metadata": {},
     "output_type": "display_data"
    }
   ],
   "source": [
    "plt.figure(figsize=(10, 6))\n",
    "\n",
    "ordem = ['Lower secondary', 'Secondary / secondary special','Incomplete higher', 'Higher education', 'Academic degree']\n",
    "\n",
    "ax = sns.countplot(data=df, x='educacao', hue='mau', order=ordem)\n",
    "ax.set_title('Escolaridade', fontweight='bold')\n",
    "plt.xticks(rotation=45, ha='right')\n",
    "ax.set_xlabel('')\n",
    "ax.grid(False)\n",
    "ax.yaxis.set_visible(False)\n",
    "\n",
    "leg_labels = ['Adimplentes', 'Inadimplentes']\n",
    "handles, _ = ax.get_legend_handles_labels()\n",
    "ax.legend(handles, leg_labels, title='Perfil dos clientes', title_fontsize='13', fontsize='11', loc='upper right')\n",
    "\n",
    "total = len(df)\n",
    "counts = [count.get_height() for count in ax.patches]\n",
    "percentages = [(count / total) * 100 for count in counts]\n",
    "\n",
    "for count, percentage in zip(ax.patches, percentages):\n",
    "    if percentage > 0:\n",
    "        x = count.get_x() + count.get_width() / 2\n",
    "        y = count.get_height()\n",
    "        ax.annotate(f\"{percentage:.1f}%\", (x, y), ha='center', va='bottom')\n",
    "\n",
    "plt.show()"
   ]
  },
  {
   "cell_type": "markdown",
   "id": "30b9e15d",
   "metadata": {
    "papermill": {
     "duration": 0.022898,
     "end_time": "2024-06-16T20:00:50.585986",
     "exception": false,
     "start_time": "2024-06-16T20:00:50.563088",
     "status": "completed"
    },
    "tags": []
   },
   "source": [
    "A maior parte dos clientes do banco possuem escolaridade de nível secundário, mas isso não pareceu influenciar a determinação de adimplência dos clientes"
   ]
  },
  {
   "cell_type": "code",
   "execution_count": 23,
   "id": "815a433d",
   "metadata": {
    "execution": {
     "iopub.execute_input": "2024-06-16T20:00:50.636886Z",
     "iopub.status.busy": "2024-06-16T20:00:50.636498Z",
     "iopub.status.idle": "2024-06-16T20:00:50.942893Z",
     "shell.execute_reply": "2024-06-16T20:00:50.941721Z"
    },
    "papermill": {
     "duration": 0.335994,
     "end_time": "2024-06-16T20:00:50.945211",
     "exception": false,
     "start_time": "2024-06-16T20:00:50.609217",
     "status": "completed"
    },
    "tags": []
   },
   "outputs": [
    {
     "data": {
      "image/png": "[encoded data removed]",
      "text/plain": [
       "<Figure size 1000x600 with 1 Axes>"
      ]
     },
     "metadata": {},
     "output_type": "display_data"
    }
   ],
   "source": [
    "plt.figure(figsize=(10, 6))\n",
    "\n",
    "category_counts = df['estado_civil'].value_counts()\n",
    "ordered_categories = category_counts.index.tolist()\n",
    "\n",
    "ax = sns.countplot(data=df, x='estado_civil', hue='mau', order=ordered_categories)\n",
    "ax.set_title('Estado civil', fontweight='bold')\n",
    "\n",
    "ax.set_xlabel('')\n",
    "ax.grid(False)\n",
    "ax.yaxis.set_visible(False)\n",
    "\n",
    "leg_labels = ['Adimplentes', 'Inadimplentes']\n",
    "handles, _ = ax.get_legend_handles_labels()\n",
    "ax.legend(handles, leg_labels, title='Perfil dos clientes', title_fontsize='13', fontsize='11', loc='upper right')\n",
    "\n",
    "total = len(df)\n",
    "counts = [count.get_height() for count in ax.patches]\n",
    "percentages = [(count / total) * 100 for count in counts]\n",
    "\n",
    "for count, percentage in zip(ax.patches, percentages):\n",
    "    if percentage > 0:\n",
    "        x = count.get_x() + count.get_width() / 2\n",
    "        y = count.get_height()\n",
    "        ax.annotate(f\"{percentage:.1f}%\", (x, y), ha='center', va='bottom')"
   ]
  },
  {
   "cell_type": "markdown",
   "id": "8739c787",
   "metadata": {
    "papermill": {
     "duration": 0.023625,
     "end_time": "2024-06-16T20:00:50.993139",
     "exception": false,
     "start_time": "2024-06-16T20:00:50.969514",
     "status": "completed"
    },
    "tags": []
   },
   "source": [
    "# Visualização dos dados numéricos"
   ]
  },
  {
   "cell_type": "code",
   "execution_count": 24,
   "id": "fe81ad90",
   "metadata": {
    "execution": {
     "iopub.execute_input": "2024-06-16T20:00:51.044041Z",
     "iopub.status.busy": "2024-06-16T20:00:51.043080Z",
     "iopub.status.idle": "2024-06-16T20:00:51.422893Z",
     "shell.execute_reply": "2024-06-16T20:00:51.421603Z"
    },
    "papermill": {
     "duration": 0.408181,
     "end_time": "2024-06-16T20:00:51.425489",
     "exception": false,
     "start_time": "2024-06-16T20:00:51.017308",
     "status": "completed"
    },
    "tags": []
   },
   "outputs": [
    {
     "data": {
      "text/plain": [
       "<Figure size 640x480 with 0 Axes>"
      ]
     },
     "metadata": {},
     "output_type": "display_data"
    },
    {
     "data": {
      "image/png": "[encoded data removed]",
      "text/plain": [
       "<Figure size 500x500 with 1 Axes>"
      ]
     },
     "metadata": {},
     "output_type": "display_data"
    }
   ],
   "source": [
    "plt.clf()\n",
    "var = \"tempo_emprego\"\n",
    "\n",
    "sns.displot(df, x = var, bins = 50)\n",
    "plt.show()"
   ]
  },
  {
   "cell_type": "code",
   "execution_count": 25,
   "id": "658cd391",
   "metadata": {
    "execution": {
     "iopub.execute_input": "2024-06-16T20:00:51.476542Z",
     "iopub.status.busy": "2024-06-16T20:00:51.476151Z",
     "iopub.status.idle": "2024-06-16T20:00:51.482852Z",
     "shell.execute_reply": "2024-06-16T20:00:51.481828Z"
    },
    "papermill": {
     "duration": 0.035563,
     "end_time": "2024-06-16T20:00:51.485399",
     "exception": false,
     "start_time": "2024-06-16T20:00:51.449836",
     "status": "completed"
    },
    "tags": []
   },
   "outputs": [],
   "source": [
    "# Alterando valores de -1000 pra -2, para visualizar melhor no gráfico\n",
    "var = \"tempo_emprego\"\n",
    "df.loc[df[var]<0,var] = -2"
   ]
  },
  {
   "cell_type": "code",
   "execution_count": 26,
   "id": "27239419",
   "metadata": {
    "execution": {
     "iopub.execute_input": "2024-06-16T20:00:51.536621Z",
     "iopub.status.busy": "2024-06-16T20:00:51.535853Z",
     "iopub.status.idle": "2024-06-16T20:00:52.531826Z",
     "shell.execute_reply": "2024-06-16T20:00:52.530652Z"
    },
    "papermill": {
     "duration": 1.025097,
     "end_time": "2024-06-16T20:00:52.535012",
     "exception": false,
     "start_time": "2024-06-16T20:00:51.509915",
     "status": "completed"
    },
    "tags": []
   },
   "outputs": [
    {
     "data": {
      "text/plain": [
       "<Figure size 640x480 with 0 Axes>"
      ]
     },
     "metadata": {},
     "output_type": "display_data"
    },
    {
     "data": {
      "image/png": "[encoded data removed]",
      "text/plain": [
       "<Figure size 584.875x500 with 1 Axes>"
      ]
     },
     "metadata": {},
     "output_type": "display_data"
    }
   ],
   "source": [
    "plt.clf()\n",
    "var = \"tempo_emprego\"\n",
    "\n",
    "f=sns.displot(data=df, x=var, stat='count', hue='mau', multiple='stack', bins=50)\n",
    "legend = f._legend\n",
    "legend.set_title('Perfil dos Clientes')\n",
    "plt.setp(legend.get_title(), fontsize='12')\n",
    "\n",
    "new_labels = ['Adimplente', 'Inadimplente']\n",
    "for text, label in zip(legend.get_texts(), new_labels):\n",
    "    text.set_text(label)\n",
    "    \n",
    "plt.title('Tempo de emprego')\n",
    "plt.xlabel('Tempo de emprego em anos')\n",
    "plt.ylabel('Quantidade Total de Ocorrências')\n",
    "\n",
    "plt.show()"
   ]
  },
  {
   "cell_type": "markdown",
   "id": "729ae97b",
   "metadata": {
    "papermill": {
     "duration": 0.024467,
     "end_time": "2024-06-16T20:00:52.585214",
     "exception": false,
     "start_time": "2024-06-16T20:00:52.560747",
     "status": "completed"
    },
    "tags": []
   },
   "source": [
    "É possível observar que clientes com menos de 10 anos de emprego tendem a ter um perfil mais condizente com inadimplência, por outro lado, o número de inadimplentes é muito baixo entre os clientes com 20 anos ou mais de emprego"
   ]
  },
  {
   "cell_type": "code",
   "execution_count": 27,
   "id": "086cfd96",
   "metadata": {
    "execution": {
     "iopub.execute_input": "2024-06-16T20:00:52.638553Z",
     "iopub.status.busy": "2024-06-16T20:00:52.638121Z",
     "iopub.status.idle": "2024-06-16T20:00:53.500953Z",
     "shell.execute_reply": "2024-06-16T20:00:53.499717Z"
    },
    "papermill": {
     "duration": 0.892541,
     "end_time": "2024-06-16T20:00:53.503695",
     "exception": false,
     "start_time": "2024-06-16T20:00:52.611154",
     "status": "completed"
    },
    "tags": []
   },
   "outputs": [
    {
     "data": {
      "text/plain": [
       "<Figure size 640x480 with 0 Axes>"
      ]
     },
     "metadata": {},
     "output_type": "display_data"
    },
    {
     "data": {
      "image/png": "[encoded data removed]",
      "text/plain": [
       "<Figure size 584.875x500 with 1 Axes>"
      ]
     },
     "metadata": {},
     "output_type": "display_data"
    }
   ],
   "source": [
    "plt.clf()\n",
    "var = \"qt_pessoas_residencia\"\n",
    "\n",
    "f=sns.displot(data=df, x=var, stat='count', hue='mau', multiple='stack', bins=50)\n",
    "legend = f._legend\n",
    "legend.set_title('Perfil dos Clientes')\n",
    "plt.setp(legend.get_title(), fontsize='12')\n",
    "\n",
    "new_labels = ['Adimplente', 'Inadimplente']\n",
    "for text, label in zip(legend.get_texts(), new_labels):\n",
    "    text.set_text(label)\n",
    "    \n",
    "plt.title('Quantidade de pessoas na residência')\n",
    "plt.xlabel('Número de pessoas')\n",
    "plt.ylabel('Quantidade Total de Ocorrências')\n",
    "\n",
    "plt.show()"
   ]
  },
  {
   "cell_type": "code",
   "execution_count": 28,
   "id": "49865f04",
   "metadata": {
    "execution": {
     "iopub.execute_input": "2024-06-16T20:00:53.556471Z",
     "iopub.status.busy": "2024-06-16T20:00:53.556082Z",
     "iopub.status.idle": "2024-06-16T20:00:54.099319Z",
     "shell.execute_reply": "2024-06-16T20:00:54.098192Z"
    },
    "papermill": {
     "duration": 0.572562,
     "end_time": "2024-06-16T20:00:54.101821",
     "exception": false,
     "start_time": "2024-06-16T20:00:53.529259",
     "status": "completed"
    },
    "tags": []
   },
   "outputs": [
    {
     "data": {
      "image/png": "[encoded data removed]",
      "text/plain": [
       "<Figure size 640x480 with 1 Axes>"
      ]
     },
     "metadata": {},
     "output_type": "display_data"
    }
   ],
   "source": [
    "plt.clf()\n",
    "\n",
    "f=sns.histplot(x='qtd_filhos', data=df, stat='count', hue='mau', multiple='stack', bins=50)\n",
    "\n",
    "legend=f.legend(title='Perfil dos Clientes', labels=['Adimplente', 'Inadimplente'])\n",
    "plt.setp(legend.get_title(), fontsize='12')\n",
    "legend.legend_handles[0]._sizes = [1]\n",
    "legend.legend_handles[1]._sizes = [1]\n",
    "\n",
    "plt.title('Quantidade de filhos por cliente')\n",
    "plt.xlabel('Filhos por cliente')\n",
    "plt.ylabel('Quantidade Total de Ocorrências')\n",
    "\n",
    "max_qtd_filhos = df['qtd_filhos'].max()\n",
    "plt.xticks(range(0, max_qtd_filhos + 1))\n",
    "\n",
    "plt.show()\n",
    "\n"
   ]
  },
  {
   "cell_type": "code",
   "execution_count": 29,
   "id": "46d0f2ff",
   "metadata": {
    "execution": {
     "iopub.execute_input": "2024-06-16T20:00:54.160837Z",
     "iopub.status.busy": "2024-06-16T20:00:54.160441Z",
     "iopub.status.idle": "2024-06-16T20:00:54.874578Z",
     "shell.execute_reply": "2024-06-16T20:00:54.873367Z"
    },
    "papermill": {
     "duration": 0.748281,
     "end_time": "2024-06-16T20:00:54.877321",
     "exception": false,
     "start_time": "2024-06-16T20:00:54.129040",
     "status": "completed"
    },
    "tags": []
   },
   "outputs": [
    {
     "data": {
      "image/png": "[encoded data removed]",
      "text/plain": [
       "<Figure size 640x480 with 1 Axes>"
      ]
     },
     "metadata": {},
     "output_type": "display_data"
    }
   ],
   "source": [
    "plt.clf()\n",
    "\n",
    "f=sns.histplot(x='idade', data=df, stat='count', ax=None, hue='mau', multiple='stack', kde=True, bins=50)\n",
    "legend=f.legend(title='Perfil dos Clientes', labels=['Adimplente', 'Inadimplente'])\n",
    "plt.setp(legend.get_title(), fontsize='12')\n",
    "legend.legend_handles[0]._sizes = [1]\n",
    "legend.legend_handles[1]._sizes = [1]\n",
    "plt.title('Idade dos clientes')\n",
    "plt.xlabel('Idade')\n",
    "plt.ylabel('Quantidade Total de Ocorrências')\n",
    "plt.show()\n",
    "\n",
    "plt.show()"
   ]
  },
  {
   "cell_type": "markdown",
   "id": "b2ef03f2",
   "metadata": {
    "papermill": {
     "duration": 0.026537,
     "end_time": "2024-06-16T20:00:54.930993",
     "exception": false,
     "start_time": "2024-06-16T20:00:54.904456",
     "status": "completed"
    },
    "tags": []
   },
   "source": [
    "# Visualização dos dados bivariados/relacionais\n",
    "\n",
    "\n"
   ]
  },
  {
   "cell_type": "code",
   "execution_count": 30,
   "id": "5e87a346",
   "metadata": {
    "execution": {
     "iopub.execute_input": "2024-06-16T20:00:54.986732Z",
     "iopub.status.busy": "2024-06-16T20:00:54.985789Z",
     "iopub.status.idle": "2024-06-16T20:00:55.249950Z",
     "shell.execute_reply": "2024-06-16T20:00:55.248564Z"
    },
    "papermill": {
     "duration": 0.294989,
     "end_time": "2024-06-16T20:00:55.252634",
     "exception": false,
     "start_time": "2024-06-16T20:00:54.957645",
     "status": "completed"
    },
    "tags": []
   },
   "outputs": [
    {
     "data": {
      "image/png": "[encoded data removed]",
      "text/plain": [
       "<Figure size 640x480 with 1 Axes>"
      ]
     },
     "metadata": {},
     "output_type": "display_data"
    }
   ],
   "source": [
    "var = 'idade'\n",
    "cat_srs, bins = pd.qcut(df[var], 4, retbins=True)\n",
    "g = df.groupby(cat_srs)\n",
    "biv = g['mau'].mean()\n",
    "\n",
    "ax = biv.plot.line()\n",
    "ax.set_ylabel(\"Proporção de inadimplentes\")\n",
    "ticks = plt.xticks(range(len(biv.index.values)), biv.index.values, rotation = 90)"
   ]
  },
  {
   "cell_type": "markdown",
   "id": "a95ff201",
   "metadata": {
    "papermill": {
     "duration": 0.028686,
     "end_time": "2024-06-16T20:00:55.310545",
     "exception": false,
     "start_time": "2024-06-16T20:00:55.281859",
     "status": "completed"
    },
    "tags": []
   },
   "source": [
    "A porporção de inadimplentes é maior na faixa etária de jovens adultos, tendo uma redução com idades intermediárias e voltando a aumentar (levemente) em idades mais avançadas. \n",
    "Pessoas jovens parecem ser mais inadimplentes\n"
   ]
  },
  {
   "cell_type": "code",
   "execution_count": 31,
   "id": "c67fe52a",
   "metadata": {
    "execution": {
     "iopub.execute_input": "2024-06-16T20:00:55.370132Z",
     "iopub.status.busy": "2024-06-16T20:00:55.369704Z",
     "iopub.status.idle": "2024-06-16T20:00:55.639088Z",
     "shell.execute_reply": "2024-06-16T20:00:55.637777Z"
    },
    "papermill": {
     "duration": 0.302167,
     "end_time": "2024-06-16T20:00:55.641963",
     "exception": false,
     "start_time": "2024-06-16T20:00:55.339796",
     "status": "completed"
    },
    "tags": []
   },
   "outputs": [
    {
     "data": {
      "image/png": "[encoded data removed]",
      "text/plain": [
       "<Figure size 640x480 with 1 Axes>"
      ]
     },
     "metadata": {},
     "output_type": "display_data"
    }
   ],
   "source": [
    "var = 'tempo_emprego'\n",
    "cat_srs, bins = pd.qcut(df[var], 4, retbins=True)\n",
    "g = df.groupby(cat_srs)\n",
    "biv = g['mau'].mean()\n",
    "\n",
    "ax = biv.plot.line()\n",
    "ax.set_ylabel(\"Proporção de inadimplentes\")\n",
    "ticks = plt.xticks(range(len(biv.index.values)), biv.index.values, rotation = 90)"
   ]
  },
  {
   "cell_type": "markdown",
   "id": "2b03f18f",
   "metadata": {
    "papermill": {
     "duration": 0.029888,
     "end_time": "2024-06-16T20:00:55.702763",
     "exception": false,
     "start_time": "2024-06-16T20:00:55.672875",
     "status": "completed"
    },
    "tags": []
   },
   "source": [
    "Aparentemente, o tempo de emprego tem uma correlação inversa com a inadimplência. Quanto maior o tempo de emprego, menor a porporção de inadimplentes"
   ]
  },
  {
   "cell_type": "markdown",
   "id": "add94762",
   "metadata": {
    "papermill": {
     "duration": 0.028718,
     "end_time": "2024-06-16T20:00:55.761443",
     "exception": false,
     "start_time": "2024-06-16T20:00:55.732725",
     "status": "completed"
    },
    "tags": []
   },
   "source": [
    "# Preparação dos dados\n",
    "\n",
    "Os dados já estão pré-selecionados, construídos e integrados"
   ]
  },
  {
   "cell_type": "code",
   "execution_count": 32,
   "id": "d8b7daea",
   "metadata": {
    "execution": {
     "iopub.execute_input": "2024-06-16T20:00:55.822725Z",
     "iopub.status.busy": "2024-06-16T20:00:55.822328Z",
     "iopub.status.idle": "2024-06-16T20:00:55.863395Z",
     "shell.execute_reply": "2024-06-16T20:00:55.862195Z"
    },
    "papermill": {
     "duration": 0.075244,
     "end_time": "2024-06-16T20:00:55.865855",
     "exception": false,
     "start_time": "2024-06-16T20:00:55.790611",
     "status": "completed"
    },
    "tags": []
   },
   "outputs": [
    {
     "data": {
      "text/html": [
       "<div>\n",
       "<style scoped>\n",
       "    .dataframe tbody tr th:only-of-type {\n",
       "        vertical-align: middle;\n",
       "    }\n",
       "\n",
       "    .dataframe tbody tr th {\n",
       "        vertical-align: top;\n",
       "    }\n",
       "\n",
       "    .dataframe thead th {\n",
       "        text-align: right;\n",
       "    }\n",
       "</style>\n",
       "<table border=\"1\" class=\"dataframe\">\n",
       "  <thead>\n",
       "    <tr style=\"text-align: right;\">\n",
       "      <th></th>\n",
       "      <th>tipo</th>\n",
       "      <th>n_categorias</th>\n",
       "    </tr>\n",
       "  </thead>\n",
       "  <tbody>\n",
       "    <tr>\n",
       "      <th>sexo</th>\n",
       "      <td>object</td>\n",
       "      <td>2</td>\n",
       "    </tr>\n",
       "    <tr>\n",
       "      <th>posse_de_veiculo</th>\n",
       "      <td>object</td>\n",
       "      <td>2</td>\n",
       "    </tr>\n",
       "    <tr>\n",
       "      <th>posse_de_imovel</th>\n",
       "      <td>object</td>\n",
       "      <td>2</td>\n",
       "    </tr>\n",
       "    <tr>\n",
       "      <th>qtd_filhos</th>\n",
       "      <td>int64</td>\n",
       "      <td>8</td>\n",
       "    </tr>\n",
       "    <tr>\n",
       "      <th>tipo_renda</th>\n",
       "      <td>object</td>\n",
       "      <td>5</td>\n",
       "    </tr>\n",
       "    <tr>\n",
       "      <th>educacao</th>\n",
       "      <td>object</td>\n",
       "      <td>5</td>\n",
       "    </tr>\n",
       "    <tr>\n",
       "      <th>estado_civil</th>\n",
       "      <td>object</td>\n",
       "      <td>5</td>\n",
       "    </tr>\n",
       "    <tr>\n",
       "      <th>tipo_residencia</th>\n",
       "      <td>object</td>\n",
       "      <td>6</td>\n",
       "    </tr>\n",
       "    <tr>\n",
       "      <th>idade</th>\n",
       "      <td>float64</td>\n",
       "      <td>5298</td>\n",
       "    </tr>\n",
       "    <tr>\n",
       "      <th>tempo_emprego</th>\n",
       "      <td>float64</td>\n",
       "      <td>3005</td>\n",
       "    </tr>\n",
       "    <tr>\n",
       "      <th>possui_celular</th>\n",
       "      <td>int64</td>\n",
       "      <td>1</td>\n",
       "    </tr>\n",
       "    <tr>\n",
       "      <th>possui_fone_comercial</th>\n",
       "      <td>int64</td>\n",
       "      <td>2</td>\n",
       "    </tr>\n",
       "    <tr>\n",
       "      <th>possui_fone</th>\n",
       "      <td>int64</td>\n",
       "      <td>2</td>\n",
       "    </tr>\n",
       "    <tr>\n",
       "      <th>possui_email</th>\n",
       "      <td>int64</td>\n",
       "      <td>2</td>\n",
       "    </tr>\n",
       "    <tr>\n",
       "      <th>qt_pessoas_residencia</th>\n",
       "      <td>float64</td>\n",
       "      <td>9</td>\n",
       "    </tr>\n",
       "    <tr>\n",
       "      <th>mau</th>\n",
       "      <td>bool</td>\n",
       "      <td>2</td>\n",
       "    </tr>\n",
       "  </tbody>\n",
       "</table>\n",
       "</div>"
      ],
      "text/plain": [
       "                          tipo  n_categorias\n",
       "sexo                    object             2\n",
       "posse_de_veiculo        object             2\n",
       "posse_de_imovel         object             2\n",
       "qtd_filhos               int64             8\n",
       "tipo_renda              object             5\n",
       "educacao                object             5\n",
       "estado_civil            object             5\n",
       "tipo_residencia         object             6\n",
       "idade                  float64          5298\n",
       "tempo_emprego          float64          3005\n",
       "possui_celular           int64             1\n",
       "possui_fone_comercial    int64             2\n",
       "possui_fone              int64             2\n",
       "possui_email             int64             2\n",
       "qt_pessoas_residencia  float64             9\n",
       "mau                       bool             2"
      ]
     },
     "execution_count": 32,
     "metadata": {},
     "output_type": "execute_result"
    }
   ],
   "source": [
    "metadata = pd.DataFrame(df.dtypes, columns = ['tipo'])\n",
    "\n",
    "metadata['n_categorias'] = 0\n",
    "\n",
    "for var in metadata.index:\n",
    "    metadata.loc[var,'n_categorias'] = len(df.groupby([var]).size())\n",
    "    \n",
    "metadata"
   ]
  },
  {
   "cell_type": "markdown",
   "id": "0b2d45dc",
   "metadata": {
    "papermill": {
     "duration": 0.028781,
     "end_time": "2024-06-16T20:00:55.924126",
     "exception": false,
     "start_time": "2024-06-16T20:00:55.895345",
     "status": "completed"
    },
    "tags": []
   },
   "source": [
    "### Transformamos as variáveis em dummy para possibilitar o uso do modelo de predição"
   ]
  },
  {
   "cell_type": "code",
   "execution_count": 33,
   "id": "7d056b3a",
   "metadata": {
    "execution": {
     "iopub.execute_input": "2024-06-16T20:00:55.985459Z",
     "iopub.status.busy": "2024-06-16T20:00:55.985082Z",
     "iopub.status.idle": "2024-06-16T20:00:55.992353Z",
     "shell.execute_reply": "2024-06-16T20:00:55.991035Z"
    },
    "papermill": {
     "duration": 0.041201,
     "end_time": "2024-06-16T20:00:55.994945",
     "exception": false,
     "start_time": "2024-06-16T20:00:55.953744",
     "status": "completed"
    },
    "tags": []
   },
   "outputs": [],
   "source": [
    "def convert_dummy(df, feature,rank=0):\n",
    "    pos = pd.get_dummies(df[feature], prefix=feature)\n",
    "    mode = df[feature].value_counts().index[rank]\n",
    "    biggest = feature + '_' + str(mode)\n",
    "    pos.drop([biggest],axis=1,inplace=True)\n",
    "    df.drop([feature],axis=1,inplace=True)\n",
    "    df=df.join(pos)\n",
    "    return df"
   ]
  },
  {
   "cell_type": "code",
   "execution_count": 34,
   "id": "845adee7",
   "metadata": {
    "execution": {
     "iopub.execute_input": "2024-06-16T20:00:56.059609Z",
     "iopub.status.busy": "2024-06-16T20:00:56.059191Z",
     "iopub.status.idle": "2024-06-16T20:00:56.119007Z",
     "shell.execute_reply": "2024-06-16T20:00:56.117877Z"
    },
    "papermill": {
     "duration": 0.094364,
     "end_time": "2024-06-16T20:00:56.121672",
     "exception": false,
     "start_time": "2024-06-16T20:00:56.027308",
     "status": "completed"
    },
    "tags": []
   },
   "outputs": [],
   "source": [
    "for var in metadata[metadata['tipo'] == 'object'].index:\n",
    "    df = convert_dummy(df, var)"
   ]
  },
  {
   "cell_type": "code",
   "execution_count": 35,
   "id": "35c64b02",
   "metadata": {
    "execution": {
     "iopub.execute_input": "2024-06-16T20:00:56.183302Z",
     "iopub.status.busy": "2024-06-16T20:00:56.182853Z",
     "iopub.status.idle": "2024-06-16T20:00:56.217284Z",
     "shell.execute_reply": "2024-06-16T20:00:56.215976Z"
    },
    "papermill": {
     "duration": 0.069204,
     "end_time": "2024-06-16T20:00:56.220082",
     "exception": false,
     "start_time": "2024-06-16T20:00:56.150878",
     "status": "completed"
    },
    "tags": []
   },
   "outputs": [
    {
     "data": {
      "text/html": [
       "<div>\n",
       "<style scoped>\n",
       "    .dataframe tbody tr th:only-of-type {\n",
       "        vertical-align: middle;\n",
       "    }\n",
       "\n",
       "    .dataframe tbody tr th {\n",
       "        vertical-align: top;\n",
       "    }\n",
       "\n",
       "    .dataframe thead th {\n",
       "        text-align: right;\n",
       "    }\n",
       "</style>\n",
       "<table border=\"1\" class=\"dataframe\">\n",
       "  <thead>\n",
       "    <tr style=\"text-align: right;\">\n",
       "      <th></th>\n",
       "      <th>qtd_filhos</th>\n",
       "      <th>idade</th>\n",
       "      <th>tempo_emprego</th>\n",
       "      <th>possui_celular</th>\n",
       "      <th>possui_fone_comercial</th>\n",
       "      <th>possui_fone</th>\n",
       "      <th>possui_email</th>\n",
       "      <th>qt_pessoas_residencia</th>\n",
       "      <th>mau</th>\n",
       "      <th>sexo_M</th>\n",
       "      <th>...</th>\n",
       "      <th>educacao_Lower secondary</th>\n",
       "      <th>estado_civil_Civil marriage</th>\n",
       "      <th>estado_civil_Separated</th>\n",
       "      <th>estado_civil_Single / not married</th>\n",
       "      <th>estado_civil_Widow</th>\n",
       "      <th>tipo_residencia_Co-op apartment</th>\n",
       "      <th>tipo_residencia_Municipal apartment</th>\n",
       "      <th>tipo_residencia_Office apartment</th>\n",
       "      <th>tipo_residencia_Rented apartment</th>\n",
       "      <th>tipo_residencia_With parents</th>\n",
       "    </tr>\n",
       "  </thead>\n",
       "  <tbody>\n",
       "    <tr>\n",
       "      <th>0</th>\n",
       "      <td>0</td>\n",
       "      <td>58.832877</td>\n",
       "      <td>3.106849</td>\n",
       "      <td>1</td>\n",
       "      <td>0</td>\n",
       "      <td>0</td>\n",
       "      <td>0</td>\n",
       "      <td>2.0</td>\n",
       "      <td>False</td>\n",
       "      <td>True</td>\n",
       "      <td>...</td>\n",
       "      <td>False</td>\n",
       "      <td>False</td>\n",
       "      <td>False</td>\n",
       "      <td>False</td>\n",
       "      <td>False</td>\n",
       "      <td>False</td>\n",
       "      <td>False</td>\n",
       "      <td>False</td>\n",
       "      <td>False</td>\n",
       "      <td>False</td>\n",
       "    </tr>\n",
       "    <tr>\n",
       "      <th>1</th>\n",
       "      <td>0</td>\n",
       "      <td>52.356164</td>\n",
       "      <td>8.358904</td>\n",
       "      <td>1</td>\n",
       "      <td>0</td>\n",
       "      <td>1</td>\n",
       "      <td>1</td>\n",
       "      <td>1.0</td>\n",
       "      <td>False</td>\n",
       "      <td>False</td>\n",
       "      <td>...</td>\n",
       "      <td>False</td>\n",
       "      <td>False</td>\n",
       "      <td>False</td>\n",
       "      <td>True</td>\n",
       "      <td>False</td>\n",
       "      <td>False</td>\n",
       "      <td>False</td>\n",
       "      <td>False</td>\n",
       "      <td>False</td>\n",
       "      <td>False</td>\n",
       "    </tr>\n",
       "    <tr>\n",
       "      <th>2</th>\n",
       "      <td>0</td>\n",
       "      <td>52.356164</td>\n",
       "      <td>8.358904</td>\n",
       "      <td>1</td>\n",
       "      <td>0</td>\n",
       "      <td>1</td>\n",
       "      <td>1</td>\n",
       "      <td>1.0</td>\n",
       "      <td>False</td>\n",
       "      <td>False</td>\n",
       "      <td>...</td>\n",
       "      <td>False</td>\n",
       "      <td>False</td>\n",
       "      <td>False</td>\n",
       "      <td>True</td>\n",
       "      <td>False</td>\n",
       "      <td>False</td>\n",
       "      <td>False</td>\n",
       "      <td>False</td>\n",
       "      <td>False</td>\n",
       "      <td>False</td>\n",
       "    </tr>\n",
       "    <tr>\n",
       "      <th>3</th>\n",
       "      <td>0</td>\n",
       "      <td>46.224658</td>\n",
       "      <td>2.106849</td>\n",
       "      <td>1</td>\n",
       "      <td>1</td>\n",
       "      <td>1</td>\n",
       "      <td>1</td>\n",
       "      <td>2.0</td>\n",
       "      <td>False</td>\n",
       "      <td>True</td>\n",
       "      <td>...</td>\n",
       "      <td>False</td>\n",
       "      <td>False</td>\n",
       "      <td>False</td>\n",
       "      <td>False</td>\n",
       "      <td>False</td>\n",
       "      <td>False</td>\n",
       "      <td>False</td>\n",
       "      <td>False</td>\n",
       "      <td>False</td>\n",
       "      <td>False</td>\n",
       "    </tr>\n",
       "    <tr>\n",
       "      <th>4</th>\n",
       "      <td>0</td>\n",
       "      <td>29.230137</td>\n",
       "      <td>3.021918</td>\n",
       "      <td>1</td>\n",
       "      <td>0</td>\n",
       "      <td>0</td>\n",
       "      <td>0</td>\n",
       "      <td>2.0</td>\n",
       "      <td>False</td>\n",
       "      <td>False</td>\n",
       "      <td>...</td>\n",
       "      <td>False</td>\n",
       "      <td>False</td>\n",
       "      <td>False</td>\n",
       "      <td>False</td>\n",
       "      <td>False</td>\n",
       "      <td>False</td>\n",
       "      <td>False</td>\n",
       "      <td>False</td>\n",
       "      <td>False</td>\n",
       "      <td>False</td>\n",
       "    </tr>\n",
       "    <tr>\n",
       "      <th>...</th>\n",
       "      <td>...</td>\n",
       "      <td>...</td>\n",
       "      <td>...</td>\n",
       "      <td>...</td>\n",
       "      <td>...</td>\n",
       "      <td>...</td>\n",
       "      <td>...</td>\n",
       "      <td>...</td>\n",
       "      <td>...</td>\n",
       "      <td>...</td>\n",
       "      <td>...</td>\n",
       "      <td>...</td>\n",
       "      <td>...</td>\n",
       "      <td>...</td>\n",
       "      <td>...</td>\n",
       "      <td>...</td>\n",
       "      <td>...</td>\n",
       "      <td>...</td>\n",
       "      <td>...</td>\n",
       "      <td>...</td>\n",
       "      <td>...</td>\n",
       "    </tr>\n",
       "    <tr>\n",
       "      <th>16645</th>\n",
       "      <td>0</td>\n",
       "      <td>54.109589</td>\n",
       "      <td>9.884932</td>\n",
       "      <td>1</td>\n",
       "      <td>0</td>\n",
       "      <td>0</td>\n",
       "      <td>0</td>\n",
       "      <td>2.0</td>\n",
       "      <td>True</td>\n",
       "      <td>False</td>\n",
       "      <td>...</td>\n",
       "      <td>False</td>\n",
       "      <td>True</td>\n",
       "      <td>False</td>\n",
       "      <td>False</td>\n",
       "      <td>False</td>\n",
       "      <td>False</td>\n",
       "      <td>False</td>\n",
       "      <td>False</td>\n",
       "      <td>False</td>\n",
       "      <td>False</td>\n",
       "    </tr>\n",
       "    <tr>\n",
       "      <th>16646</th>\n",
       "      <td>0</td>\n",
       "      <td>43.389041</td>\n",
       "      <td>7.380822</td>\n",
       "      <td>1</td>\n",
       "      <td>1</td>\n",
       "      <td>1</td>\n",
       "      <td>0</td>\n",
       "      <td>2.0</td>\n",
       "      <td>True</td>\n",
       "      <td>False</td>\n",
       "      <td>...</td>\n",
       "      <td>False</td>\n",
       "      <td>False</td>\n",
       "      <td>False</td>\n",
       "      <td>False</td>\n",
       "      <td>False</td>\n",
       "      <td>False</td>\n",
       "      <td>False</td>\n",
       "      <td>False</td>\n",
       "      <td>False</td>\n",
       "      <td>False</td>\n",
       "    </tr>\n",
       "    <tr>\n",
       "      <th>16647</th>\n",
       "      <td>0</td>\n",
       "      <td>30.005479</td>\n",
       "      <td>9.800000</td>\n",
       "      <td>1</td>\n",
       "      <td>1</td>\n",
       "      <td>0</td>\n",
       "      <td>0</td>\n",
       "      <td>2.0</td>\n",
       "      <td>True</td>\n",
       "      <td>True</td>\n",
       "      <td>...</td>\n",
       "      <td>False</td>\n",
       "      <td>False</td>\n",
       "      <td>False</td>\n",
       "      <td>False</td>\n",
       "      <td>False</td>\n",
       "      <td>False</td>\n",
       "      <td>False</td>\n",
       "      <td>False</td>\n",
       "      <td>False</td>\n",
       "      <td>False</td>\n",
       "    </tr>\n",
       "    <tr>\n",
       "      <th>16648</th>\n",
       "      <td>0</td>\n",
       "      <td>30.005479</td>\n",
       "      <td>9.800000</td>\n",
       "      <td>1</td>\n",
       "      <td>1</td>\n",
       "      <td>0</td>\n",
       "      <td>0</td>\n",
       "      <td>2.0</td>\n",
       "      <td>True</td>\n",
       "      <td>True</td>\n",
       "      <td>...</td>\n",
       "      <td>False</td>\n",
       "      <td>False</td>\n",
       "      <td>False</td>\n",
       "      <td>False</td>\n",
       "      <td>False</td>\n",
       "      <td>False</td>\n",
       "      <td>False</td>\n",
       "      <td>False</td>\n",
       "      <td>False</td>\n",
       "      <td>False</td>\n",
       "    </tr>\n",
       "    <tr>\n",
       "      <th>16649</th>\n",
       "      <td>0</td>\n",
       "      <td>33.936986</td>\n",
       "      <td>3.630137</td>\n",
       "      <td>1</td>\n",
       "      <td>0</td>\n",
       "      <td>1</td>\n",
       "      <td>1</td>\n",
       "      <td>2.0</td>\n",
       "      <td>True</td>\n",
       "      <td>False</td>\n",
       "      <td>...</td>\n",
       "      <td>False</td>\n",
       "      <td>False</td>\n",
       "      <td>False</td>\n",
       "      <td>False</td>\n",
       "      <td>False</td>\n",
       "      <td>False</td>\n",
       "      <td>False</td>\n",
       "      <td>False</td>\n",
       "      <td>False</td>\n",
       "      <td>False</td>\n",
       "    </tr>\n",
       "  </tbody>\n",
       "</table>\n",
       "<p>16650 rows × 29 columns</p>\n",
       "</div>"
      ],
      "text/plain": [
       "       qtd_filhos      idade  tempo_emprego  possui_celular  \\\n",
       "0               0  58.832877       3.106849               1   \n",
       "1               0  52.356164       8.358904               1   \n",
       "2               0  52.356164       8.358904               1   \n",
       "3               0  46.224658       2.106849               1   \n",
       "4               0  29.230137       3.021918               1   \n",
       "...           ...        ...            ...             ...   \n",
       "16645           0  54.109589       9.884932               1   \n",
       "16646           0  43.389041       7.380822               1   \n",
       "16647           0  30.005479       9.800000               1   \n",
       "16648           0  30.005479       9.800000               1   \n",
       "16649           0  33.936986       3.630137               1   \n",
       "\n",
       "       possui_fone_comercial  possui_fone  possui_email  \\\n",
       "0                          0            0             0   \n",
       "1                          0            1             1   \n",
       "2                          0            1             1   \n",
       "3                          1            1             1   \n",
       "4                          0            0             0   \n",
       "...                      ...          ...           ...   \n",
       "16645                      0            0             0   \n",
       "16646                      1            1             0   \n",
       "16647                      1            0             0   \n",
       "16648                      1            0             0   \n",
       "16649                      0            1             1   \n",
       "\n",
       "       qt_pessoas_residencia    mau  sexo_M  ...  educacao_Lower secondary  \\\n",
       "0                        2.0  False    True  ...                     False   \n",
       "1                        1.0  False   False  ...                     False   \n",
       "2                        1.0  False   False  ...                     False   \n",
       "3                        2.0  False    True  ...                     False   \n",
       "4                        2.0  False   False  ...                     False   \n",
       "...                      ...    ...     ...  ...                       ...   \n",
       "16645                    2.0   True   False  ...                     False   \n",
       "16646                    2.0   True   False  ...                     False   \n",
       "16647                    2.0   True    True  ...                     False   \n",
       "16648                    2.0   True    True  ...                     False   \n",
       "16649                    2.0   True   False  ...                     False   \n",
       "\n",
       "       estado_civil_Civil marriage  estado_civil_Separated  \\\n",
       "0                            False                   False   \n",
       "1                            False                   False   \n",
       "2                            False                   False   \n",
       "3                            False                   False   \n",
       "4                            False                   False   \n",
       "...                            ...                     ...   \n",
       "16645                         True                   False   \n",
       "16646                        False                   False   \n",
       "16647                        False                   False   \n",
       "16648                        False                   False   \n",
       "16649                        False                   False   \n",
       "\n",
       "       estado_civil_Single / not married  estado_civil_Widow  \\\n",
       "0                                  False               False   \n",
       "1                                   True               False   \n",
       "2                                   True               False   \n",
       "3                                  False               False   \n",
       "4                                  False               False   \n",
       "...                                  ...                 ...   \n",
       "16645                              False               False   \n",
       "16646                              False               False   \n",
       "16647                              False               False   \n",
       "16648                              False               False   \n",
       "16649                              False               False   \n",
       "\n",
       "       tipo_residencia_Co-op apartment  tipo_residencia_Municipal apartment  \\\n",
       "0                                False                                False   \n",
       "1                                False                                False   \n",
       "2                                False                                False   \n",
       "3                                False                                False   \n",
       "4                                False                                False   \n",
       "...                                ...                                  ...   \n",
       "16645                            False                                False   \n",
       "16646                            False                                False   \n",
       "16647                            False                                False   \n",
       "16648                            False                                False   \n",
       "16649                            False                                False   \n",
       "\n",
       "       tipo_residencia_Office apartment  tipo_residencia_Rented apartment  \\\n",
       "0                                 False                             False   \n",
       "1                                 False                             False   \n",
       "2                                 False                             False   \n",
       "3                                 False                             False   \n",
       "4                                 False                             False   \n",
       "...                                 ...                               ...   \n",
       "16645                             False                             False   \n",
       "16646                             False                             False   \n",
       "16647                             False                             False   \n",
       "16648                             False                             False   \n",
       "16649                             False                             False   \n",
       "\n",
       "       tipo_residencia_With parents  \n",
       "0                             False  \n",
       "1                             False  \n",
       "2                             False  \n",
       "3                             False  \n",
       "4                             False  \n",
       "...                             ...  \n",
       "16645                         False  \n",
       "16646                         False  \n",
       "16647                         False  \n",
       "16648                         False  \n",
       "16649                         False  \n",
       "\n",
       "[16650 rows x 29 columns]"
      ]
     },
     "execution_count": 35,
     "metadata": {},
     "output_type": "execute_result"
    }
   ],
   "source": [
    "df"
   ]
  },
  {
   "cell_type": "markdown",
   "id": "043a8f5d",
   "metadata": {
    "papermill": {
     "duration": 0.029273,
     "end_time": "2024-06-16T20:00:56.279655",
     "exception": false,
     "start_time": "2024-06-16T20:00:56.250382",
     "status": "completed"
    },
    "tags": []
   },
   "source": [
    "# Modelagem\n",
    "\n",
    "Utilizaremos a técnica de floresta aleatória (**random forest**), pois é uma técnica bastante versátil e robusta que captura bem padrões complexos nos dados, relativamente fácil de se usar e que costuma produzir excelentes resultados para uma classificação como esta. \n",
    "\n",
    "#### Dividindo a base em treino e teste\n",
    "\n"
   ]
  },
  {
   "cell_type": "code",
   "execution_count": 36,
   "id": "42b84dd6",
   "metadata": {
    "execution": {
     "iopub.execute_input": "2024-06-16T20:00:56.341113Z",
     "iopub.status.busy": "2024-06-16T20:00:56.340699Z",
     "iopub.status.idle": "2024-06-16T20:00:56.352991Z",
     "shell.execute_reply": "2024-06-16T20:00:56.352001Z"
    },
    "papermill": {
     "duration": 0.045843,
     "end_time": "2024-06-16T20:00:56.355322",
     "exception": false,
     "start_time": "2024-06-16T20:00:56.309479",
     "status": "completed"
    },
    "tags": []
   },
   "outputs": [],
   "source": [
    "# Tirando a v. resposta da base de treinamento\n",
    "x = df.drop(\"mau\",axis = 1)\n",
    "y = df[\"mau\"]\n",
    "\n",
    "# Tirando ID da base de treinamento e teste\n",
    "x_train, x_test, y_train, y_test = train_test_split(x, y)"
   ]
  },
  {
   "cell_type": "code",
   "execution_count": 37,
   "id": "196c6c51",
   "metadata": {
    "execution": {
     "iopub.execute_input": "2024-06-16T20:00:56.416072Z",
     "iopub.status.busy": "2024-06-16T20:00:56.415652Z",
     "iopub.status.idle": "2024-06-16T20:00:56.449801Z",
     "shell.execute_reply": "2024-06-16T20:00:56.448690Z"
    },
    "papermill": {
     "duration": 0.067209,
     "end_time": "2024-06-16T20:00:56.452258",
     "exception": false,
     "start_time": "2024-06-16T20:00:56.385049",
     "status": "completed"
    },
    "tags": []
   },
   "outputs": [
    {
     "data": {
      "text/html": [
       "<div>\n",
       "<style scoped>\n",
       "    .dataframe tbody tr th:only-of-type {\n",
       "        vertical-align: middle;\n",
       "    }\n",
       "\n",
       "    .dataframe tbody tr th {\n",
       "        vertical-align: top;\n",
       "    }\n",
       "\n",
       "    .dataframe thead th {\n",
       "        text-align: right;\n",
       "    }\n",
       "</style>\n",
       "<table border=\"1\" class=\"dataframe\">\n",
       "  <thead>\n",
       "    <tr style=\"text-align: right;\">\n",
       "      <th></th>\n",
       "      <th>qtd_filhos</th>\n",
       "      <th>idade</th>\n",
       "      <th>tempo_emprego</th>\n",
       "      <th>possui_celular</th>\n",
       "      <th>possui_fone_comercial</th>\n",
       "      <th>possui_fone</th>\n",
       "      <th>possui_email</th>\n",
       "      <th>qt_pessoas_residencia</th>\n",
       "      <th>sexo_M</th>\n",
       "      <th>posse_de_veiculo_Y</th>\n",
       "      <th>...</th>\n",
       "      <th>educacao_Lower secondary</th>\n",
       "      <th>estado_civil_Civil marriage</th>\n",
       "      <th>estado_civil_Separated</th>\n",
       "      <th>estado_civil_Single / not married</th>\n",
       "      <th>estado_civil_Widow</th>\n",
       "      <th>tipo_residencia_Co-op apartment</th>\n",
       "      <th>tipo_residencia_Municipal apartment</th>\n",
       "      <th>tipo_residencia_Office apartment</th>\n",
       "      <th>tipo_residencia_Rented apartment</th>\n",
       "      <th>tipo_residencia_With parents</th>\n",
       "    </tr>\n",
       "  </thead>\n",
       "  <tbody>\n",
       "    <tr>\n",
       "      <th>3436</th>\n",
       "      <td>0</td>\n",
       "      <td>46.115068</td>\n",
       "      <td>9.772603</td>\n",
       "      <td>1</td>\n",
       "      <td>0</td>\n",
       "      <td>0</td>\n",
       "      <td>0</td>\n",
       "      <td>2.0</td>\n",
       "      <td>False</td>\n",
       "      <td>False</td>\n",
       "      <td>...</td>\n",
       "      <td>False</td>\n",
       "      <td>False</td>\n",
       "      <td>False</td>\n",
       "      <td>False</td>\n",
       "      <td>False</td>\n",
       "      <td>False</td>\n",
       "      <td>False</td>\n",
       "      <td>False</td>\n",
       "      <td>False</td>\n",
       "      <td>False</td>\n",
       "    </tr>\n",
       "    <tr>\n",
       "      <th>389</th>\n",
       "      <td>2</td>\n",
       "      <td>34.936986</td>\n",
       "      <td>1.186301</td>\n",
       "      <td>1</td>\n",
       "      <td>0</td>\n",
       "      <td>1</td>\n",
       "      <td>0</td>\n",
       "      <td>4.0</td>\n",
       "      <td>False</td>\n",
       "      <td>False</td>\n",
       "      <td>...</td>\n",
       "      <td>False</td>\n",
       "      <td>False</td>\n",
       "      <td>False</td>\n",
       "      <td>False</td>\n",
       "      <td>False</td>\n",
       "      <td>False</td>\n",
       "      <td>False</td>\n",
       "      <td>False</td>\n",
       "      <td>False</td>\n",
       "      <td>False</td>\n",
       "    </tr>\n",
       "    <tr>\n",
       "      <th>9294</th>\n",
       "      <td>0</td>\n",
       "      <td>36.249315</td>\n",
       "      <td>8.600000</td>\n",
       "      <td>1</td>\n",
       "      <td>1</td>\n",
       "      <td>1</td>\n",
       "      <td>0</td>\n",
       "      <td>2.0</td>\n",
       "      <td>True</td>\n",
       "      <td>False</td>\n",
       "      <td>...</td>\n",
       "      <td>False</td>\n",
       "      <td>False</td>\n",
       "      <td>False</td>\n",
       "      <td>False</td>\n",
       "      <td>False</td>\n",
       "      <td>False</td>\n",
       "      <td>False</td>\n",
       "      <td>False</td>\n",
       "      <td>False</td>\n",
       "      <td>False</td>\n",
       "    </tr>\n",
       "    <tr>\n",
       "      <th>6271</th>\n",
       "      <td>0</td>\n",
       "      <td>26.756164</td>\n",
       "      <td>0.830137</td>\n",
       "      <td>1</td>\n",
       "      <td>1</td>\n",
       "      <td>0</td>\n",
       "      <td>1</td>\n",
       "      <td>1.0</td>\n",
       "      <td>False</td>\n",
       "      <td>True</td>\n",
       "      <td>...</td>\n",
       "      <td>False</td>\n",
       "      <td>False</td>\n",
       "      <td>False</td>\n",
       "      <td>True</td>\n",
       "      <td>False</td>\n",
       "      <td>False</td>\n",
       "      <td>False</td>\n",
       "      <td>False</td>\n",
       "      <td>False</td>\n",
       "      <td>False</td>\n",
       "    </tr>\n",
       "    <tr>\n",
       "      <th>16220</th>\n",
       "      <td>0</td>\n",
       "      <td>37.830137</td>\n",
       "      <td>3.378082</td>\n",
       "      <td>1</td>\n",
       "      <td>1</td>\n",
       "      <td>1</td>\n",
       "      <td>0</td>\n",
       "      <td>2.0</td>\n",
       "      <td>False</td>\n",
       "      <td>False</td>\n",
       "      <td>...</td>\n",
       "      <td>False</td>\n",
       "      <td>True</td>\n",
       "      <td>False</td>\n",
       "      <td>False</td>\n",
       "      <td>False</td>\n",
       "      <td>False</td>\n",
       "      <td>False</td>\n",
       "      <td>False</td>\n",
       "      <td>False</td>\n",
       "      <td>True</td>\n",
       "    </tr>\n",
       "    <tr>\n",
       "      <th>...</th>\n",
       "      <td>...</td>\n",
       "      <td>...</td>\n",
       "      <td>...</td>\n",
       "      <td>...</td>\n",
       "      <td>...</td>\n",
       "      <td>...</td>\n",
       "      <td>...</td>\n",
       "      <td>...</td>\n",
       "      <td>...</td>\n",
       "      <td>...</td>\n",
       "      <td>...</td>\n",
       "      <td>...</td>\n",
       "      <td>...</td>\n",
       "      <td>...</td>\n",
       "      <td>...</td>\n",
       "      <td>...</td>\n",
       "      <td>...</td>\n",
       "      <td>...</td>\n",
       "      <td>...</td>\n",
       "      <td>...</td>\n",
       "      <td>...</td>\n",
       "    </tr>\n",
       "    <tr>\n",
       "      <th>5851</th>\n",
       "      <td>2</td>\n",
       "      <td>36.583562</td>\n",
       "      <td>1.553425</td>\n",
       "      <td>1</td>\n",
       "      <td>0</td>\n",
       "      <td>0</td>\n",
       "      <td>0</td>\n",
       "      <td>4.0</td>\n",
       "      <td>True</td>\n",
       "      <td>False</td>\n",
       "      <td>...</td>\n",
       "      <td>False</td>\n",
       "      <td>False</td>\n",
       "      <td>False</td>\n",
       "      <td>False</td>\n",
       "      <td>False</td>\n",
       "      <td>False</td>\n",
       "      <td>False</td>\n",
       "      <td>False</td>\n",
       "      <td>False</td>\n",
       "      <td>False</td>\n",
       "    </tr>\n",
       "    <tr>\n",
       "      <th>8823</th>\n",
       "      <td>1</td>\n",
       "      <td>31.594521</td>\n",
       "      <td>13.471233</td>\n",
       "      <td>1</td>\n",
       "      <td>0</td>\n",
       "      <td>0</td>\n",
       "      <td>0</td>\n",
       "      <td>3.0</td>\n",
       "      <td>True</td>\n",
       "      <td>True</td>\n",
       "      <td>...</td>\n",
       "      <td>False</td>\n",
       "      <td>False</td>\n",
       "      <td>False</td>\n",
       "      <td>False</td>\n",
       "      <td>False</td>\n",
       "      <td>False</td>\n",
       "      <td>False</td>\n",
       "      <td>False</td>\n",
       "      <td>False</td>\n",
       "      <td>False</td>\n",
       "    </tr>\n",
       "    <tr>\n",
       "      <th>6467</th>\n",
       "      <td>0</td>\n",
       "      <td>62.197260</td>\n",
       "      <td>-2.000000</td>\n",
       "      <td>1</td>\n",
       "      <td>0</td>\n",
       "      <td>0</td>\n",
       "      <td>0</td>\n",
       "      <td>2.0</td>\n",
       "      <td>False</td>\n",
       "      <td>False</td>\n",
       "      <td>...</td>\n",
       "      <td>False</td>\n",
       "      <td>False</td>\n",
       "      <td>False</td>\n",
       "      <td>False</td>\n",
       "      <td>False</td>\n",
       "      <td>False</td>\n",
       "      <td>False</td>\n",
       "      <td>False</td>\n",
       "      <td>False</td>\n",
       "      <td>False</td>\n",
       "    </tr>\n",
       "    <tr>\n",
       "      <th>14524</th>\n",
       "      <td>0</td>\n",
       "      <td>31.164384</td>\n",
       "      <td>3.386301</td>\n",
       "      <td>1</td>\n",
       "      <td>0</td>\n",
       "      <td>0</td>\n",
       "      <td>0</td>\n",
       "      <td>1.0</td>\n",
       "      <td>False</td>\n",
       "      <td>False</td>\n",
       "      <td>...</td>\n",
       "      <td>False</td>\n",
       "      <td>False</td>\n",
       "      <td>False</td>\n",
       "      <td>True</td>\n",
       "      <td>False</td>\n",
       "      <td>False</td>\n",
       "      <td>False</td>\n",
       "      <td>False</td>\n",
       "      <td>False</td>\n",
       "      <td>False</td>\n",
       "    </tr>\n",
       "    <tr>\n",
       "      <th>10131</th>\n",
       "      <td>2</td>\n",
       "      <td>42.821918</td>\n",
       "      <td>1.961644</td>\n",
       "      <td>1</td>\n",
       "      <td>0</td>\n",
       "      <td>0</td>\n",
       "      <td>0</td>\n",
       "      <td>4.0</td>\n",
       "      <td>False</td>\n",
       "      <td>False</td>\n",
       "      <td>...</td>\n",
       "      <td>False</td>\n",
       "      <td>False</td>\n",
       "      <td>False</td>\n",
       "      <td>False</td>\n",
       "      <td>False</td>\n",
       "      <td>False</td>\n",
       "      <td>False</td>\n",
       "      <td>False</td>\n",
       "      <td>False</td>\n",
       "      <td>False</td>\n",
       "    </tr>\n",
       "  </tbody>\n",
       "</table>\n",
       "<p>12487 rows × 28 columns</p>\n",
       "</div>"
      ],
      "text/plain": [
       "       qtd_filhos      idade  tempo_emprego  possui_celular  \\\n",
       "3436            0  46.115068       9.772603               1   \n",
       "389             2  34.936986       1.186301               1   \n",
       "9294            0  36.249315       8.600000               1   \n",
       "6271            0  26.756164       0.830137               1   \n",
       "16220           0  37.830137       3.378082               1   \n",
       "...           ...        ...            ...             ...   \n",
       "5851            2  36.583562       1.553425               1   \n",
       "8823            1  31.594521      13.471233               1   \n",
       "6467            0  62.197260      -2.000000               1   \n",
       "14524           0  31.164384       3.386301               1   \n",
       "10131           2  42.821918       1.961644               1   \n",
       "\n",
       "       possui_fone_comercial  possui_fone  possui_email  \\\n",
       "3436                       0            0             0   \n",
       "389                        0            1             0   \n",
       "9294                       1            1             0   \n",
       "6271                       1            0             1   \n",
       "16220                      1            1             0   \n",
       "...                      ...          ...           ...   \n",
       "5851                       0            0             0   \n",
       "8823                       0            0             0   \n",
       "6467                       0            0             0   \n",
       "14524                      0            0             0   \n",
       "10131                      0            0             0   \n",
       "\n",
       "       qt_pessoas_residencia  sexo_M  posse_de_veiculo_Y  ...  \\\n",
       "3436                     2.0   False               False  ...   \n",
       "389                      4.0   False               False  ...   \n",
       "9294                     2.0    True               False  ...   \n",
       "6271                     1.0   False                True  ...   \n",
       "16220                    2.0   False               False  ...   \n",
       "...                      ...     ...                 ...  ...   \n",
       "5851                     4.0    True               False  ...   \n",
       "8823                     3.0    True                True  ...   \n",
       "6467                     2.0   False               False  ...   \n",
       "14524                    1.0   False               False  ...   \n",
       "10131                    4.0   False               False  ...   \n",
       "\n",
       "       educacao_Lower secondary  estado_civil_Civil marriage  \\\n",
       "3436                      False                        False   \n",
       "389                       False                        False   \n",
       "9294                      False                        False   \n",
       "6271                      False                        False   \n",
       "16220                     False                         True   \n",
       "...                         ...                          ...   \n",
       "5851                      False                        False   \n",
       "8823                      False                        False   \n",
       "6467                      False                        False   \n",
       "14524                     False                        False   \n",
       "10131                     False                        False   \n",
       "\n",
       "       estado_civil_Separated  estado_civil_Single / not married  \\\n",
       "3436                    False                              False   \n",
       "389                     False                              False   \n",
       "9294                    False                              False   \n",
       "6271                    False                               True   \n",
       "16220                   False                              False   \n",
       "...                       ...                                ...   \n",
       "5851                    False                              False   \n",
       "8823                    False                              False   \n",
       "6467                    False                              False   \n",
       "14524                   False                               True   \n",
       "10131                   False                              False   \n",
       "\n",
       "       estado_civil_Widow  tipo_residencia_Co-op apartment  \\\n",
       "3436                False                            False   \n",
       "389                 False                            False   \n",
       "9294                False                            False   \n",
       "6271                False                            False   \n",
       "16220               False                            False   \n",
       "...                   ...                              ...   \n",
       "5851                False                            False   \n",
       "8823                False                            False   \n",
       "6467                False                            False   \n",
       "14524               False                            False   \n",
       "10131               False                            False   \n",
       "\n",
       "       tipo_residencia_Municipal apartment  tipo_residencia_Office apartment  \\\n",
       "3436                                 False                             False   \n",
       "389                                  False                             False   \n",
       "9294                                 False                             False   \n",
       "6271                                 False                             False   \n",
       "16220                                False                             False   \n",
       "...                                    ...                               ...   \n",
       "5851                                 False                             False   \n",
       "8823                                 False                             False   \n",
       "6467                                 False                             False   \n",
       "14524                                False                             False   \n",
       "10131                                False                             False   \n",
       "\n",
       "       tipo_residencia_Rented apartment  tipo_residencia_With parents  \n",
       "3436                              False                         False  \n",
       "389                               False                         False  \n",
       "9294                              False                         False  \n",
       "6271                              False                         False  \n",
       "16220                             False                          True  \n",
       "...                                 ...                           ...  \n",
       "5851                              False                         False  \n",
       "8823                              False                         False  \n",
       "6467                              False                         False  \n",
       "14524                             False                         False  \n",
       "10131                             False                         False  \n",
       "\n",
       "[12487 rows x 28 columns]"
      ]
     },
     "execution_count": 37,
     "metadata": {},
     "output_type": "execute_result"
    }
   ],
   "source": [
    "x_train"
   ]
  },
  {
   "cell_type": "markdown",
   "id": "92d3c1d4",
   "metadata": {
    "papermill": {
     "duration": 0.029626,
     "end_time": "2024-06-16T20:00:56.511897",
     "exception": false,
     "start_time": "2024-06-16T20:00:56.482271",
     "status": "completed"
    },
    "tags": []
   },
   "source": [
    "### Rodando o modelo\n",
    "A função RandomForestClassifier gera a estrutura da floresta aleatória, e o parâmetro ```n_estimator``` define o número de árvores na floresta. Normalmente a acurácia do modelo tende a aumentar com o número de árvores\n"
   ]
  },
  {
   "cell_type": "code",
   "execution_count": 38,
   "id": "8634b73d",
   "metadata": {
    "execution": {
     "iopub.execute_input": "2024-06-16T20:00:56.574194Z",
     "iopub.status.busy": "2024-06-16T20:00:56.573698Z",
     "iopub.status.idle": "2024-06-16T20:00:57.893326Z",
     "shell.execute_reply": "2024-06-16T20:00:57.891900Z"
    },
    "papermill": {
     "duration": 1.354134,
     "end_time": "2024-06-16T20:00:57.896343",
     "exception": false,
     "start_time": "2024-06-16T20:00:56.542209",
     "status": "completed"
    },
    "tags": []
   },
   "outputs": [
    {
     "data": {
      "text/html": [
       "<style>#sk-container-id-1 {color: black;background-color: white;}#sk-container-id-1 pre{padding: 0;}#sk-container-id-1 div.sk-toggleable {background-color: white;}#sk-container-id-1 label.sk-toggleable__label {cursor: pointer;display: block;width: 100%;margin-bottom: 0;padding: 0.3em;box-sizing: border-box;text-align: center;}#sk-container-id-1 label.sk-toggleable__label-arrow:before {content: \"▸\";float: left;margin-right: 0.25em;color: #696969;}#sk-container-id-1 label.sk-toggleable__label-arrow:hover:before {color: black;}#sk-container-id-1 div.sk-estimator:hover label.sk-toggleable__label-arrow:before {color: black;}#sk-container-id-1 div.sk-toggleable__content {max-height: 0;max-width: 0;overflow: hidden;text-align: left;background-color: #f0f8ff;}#sk-container-id-1 div.sk-toggleable__content pre {margin: 0.2em;color: black;border-radius: 0.25em;background-color: #f0f8ff;}#sk-container-id-1 input.sk-toggleable__control:checked~div.sk-toggleable__content {max-height: 200px;max-width: 100%;overflow: auto;}#sk-container-id-1 input.sk-toggleable__control:checked~label.sk-toggleable__label-arrow:before {content: \"▾\";}#sk-container-id-1 div.sk-estimator input.sk-toggleable__control:checked~label.sk-toggleable__label {background-color: #d4ebff;}#sk-container-id-1 div.sk-label input.sk-toggleable__control:checked~label.sk-toggleable__label {background-color: #d4ebff;}#sk-container-id-1 input.sk-hidden--visually {border: 0;clip: rect(1px 1px 1px 1px);clip: rect(1px, 1px, 1px, 1px);height: 1px;margin: -1px;overflow: hidden;padding: 0;position: absolute;width: 1px;}#sk-container-id-1 div.sk-estimator {font-family: monospace;background-color: #f0f8ff;border: 1px dotted black;border-radius: 0.25em;box-sizing: border-box;margin-bottom: 0.5em;}#sk-container-id-1 div.sk-estimator:hover {background-color: #d4ebff;}#sk-container-id-1 div.sk-parallel-item::after {content: \"\";width: 100%;border-bottom: 1px solid gray;flex-grow: 1;}#sk-container-id-1 div.sk-label:hover label.sk-toggleable__label {background-color: #d4ebff;}#sk-container-id-1 div.sk-serial::before {content: \"\";position: absolute;border-left: 1px solid gray;box-sizing: border-box;top: 0;bottom: 0;left: 50%;z-index: 0;}#sk-container-id-1 div.sk-serial {display: flex;flex-direction: column;align-items: center;background-color: white;padding-right: 0.2em;padding-left: 0.2em;position: relative;}#sk-container-id-1 div.sk-item {position: relative;z-index: 1;}#sk-container-id-1 div.sk-parallel {display: flex;align-items: stretch;justify-content: center;background-color: white;position: relative;}#sk-container-id-1 div.sk-item::before, #sk-container-id-1 div.sk-parallel-item::before {content: \"\";position: absolute;border-left: 1px solid gray;box-sizing: border-box;top: 0;bottom: 0;left: 50%;z-index: -1;}#sk-container-id-1 div.sk-parallel-item {display: flex;flex-direction: column;z-index: 1;position: relative;background-color: white;}#sk-container-id-1 div.sk-parallel-item:first-child::after {align-self: flex-end;width: 50%;}#sk-container-id-1 div.sk-parallel-item:last-child::after {align-self: flex-start;width: 50%;}#sk-container-id-1 div.sk-parallel-item:only-child::after {width: 0;}#sk-container-id-1 div.sk-dashed-wrapped {border: 1px dashed gray;margin: 0 0.4em 0.5em 0.4em;box-sizing: border-box;padding-bottom: 0.4em;background-color: white;}#sk-container-id-1 div.sk-label label {font-family: monospace;font-weight: bold;display: inline-block;line-height: 1.2em;}#sk-container-id-1 div.sk-label-container {text-align: center;}#sk-container-id-1 div.sk-container {/* jupyter's `normalize.less` sets `[hidden] { display: none; }` but bootstrap.min.css set `[hidden] { display: none !important; }` so we also need the `!important` here to be able to override the default hidden behavior on the sphinx rendered scikit-learn.org. See: https://github.com/scikit-learn/scikit-learn/issues/21755 */display: inline-block !important;position: relative;}#sk-container-id-1 div.sk-text-repr-fallback {display: none;}</style><div id=\"sk-container-id-1\" class=\"sk-top-container\"><div class=\"sk-text-repr-fallback\"><pre>RandomForestClassifier(n_estimators=99)</pre><b>In a Jupyter environment, please rerun this cell to show the HTML representation or trust the notebook. <br />On GitHub, the HTML representation is unable to render, please try loading this page with nbviewer.org.</b></div><div class=\"sk-container\" hidden><div class=\"sk-item\"><div class=\"sk-estimator sk-toggleable\"><input class=\"sk-toggleable__control sk-hidden--visually\" id=\"sk-estimator-id-1\" type=\"checkbox\" checked><label for=\"sk-estimator-id-1\" class=\"sk-toggleable__label sk-toggleable__label-arrow\">RandomForestClassifier</label><div class=\"sk-toggleable__content\"><pre>RandomForestClassifier(n_estimators=99)</pre></div></div></div></div></div>"
      ],
      "text/plain": [
       "RandomForestClassifier(n_estimators=99)"
      ]
     },
     "execution_count": 38,
     "metadata": {},
     "output_type": "execute_result"
    }
   ],
   "source": [
    "# Treinar uma Random Forest com 5 árvores\n",
    "\n",
    "clf = RandomForestClassifier(n_estimators=99)\n",
    "clf.fit(x_train,y_train)"
   ]
  },
  {
   "cell_type": "code",
   "execution_count": 39,
   "id": "8734f039",
   "metadata": {
    "execution": {
     "iopub.execute_input": "2024-06-16T20:00:57.960563Z",
     "iopub.status.busy": "2024-06-16T20:00:57.960124Z",
     "iopub.status.idle": "2024-06-16T20:00:58.037950Z",
     "shell.execute_reply": "2024-06-16T20:00:58.036523Z"
    },
    "papermill": {
     "duration": 0.112664,
     "end_time": "2024-06-16T20:00:58.040421",
     "exception": false,
     "start_time": "2024-06-16T20:00:57.927757",
     "status": "completed"
    },
    "tags": []
   },
   "outputs": [
    {
     "name": "stdout",
     "output_type": "stream",
     "text": [
      "Acurácia: 97.91%\n"
     ]
    }
   ],
   "source": [
    "# Calculando a acuracia\n",
    "\n",
    "y_pred = clf.predict(x_test)\n",
    "acc = metrics.accuracy_score(y_test, y_pred)\n",
    "print('Acurácia: {0:.2f}%'.format(acc*100))"
   ]
  },
  {
   "cell_type": "code",
   "execution_count": 40,
   "id": "ff92c86a",
   "metadata": {
    "execution": {
     "iopub.execute_input": "2024-06-16T20:00:58.105627Z",
     "iopub.status.busy": "2024-06-16T20:00:58.104783Z",
     "iopub.status.idle": "2024-06-16T20:00:58.128173Z",
     "shell.execute_reply": "2024-06-16T20:00:58.127005Z"
    },
    "papermill": {
     "duration": 0.058032,
     "end_time": "2024-06-16T20:00:58.130533",
     "exception": false,
     "start_time": "2024-06-16T20:00:58.072501",
     "status": "completed"
    },
    "tags": []
   },
   "outputs": [
    {
     "name": "stdout",
     "output_type": "stream",
     "text": [
      "0.005154639175257732\n",
      "0.25842696629213485\n"
     ]
    },
    {
     "data": {
      "text/html": [
       "<div>\n",
       "<style scoped>\n",
       "    .dataframe tbody tr th:only-of-type {\n",
       "        vertical-align: middle;\n",
       "    }\n",
       "\n",
       "    .dataframe tbody tr th {\n",
       "        vertical-align: top;\n",
       "    }\n",
       "\n",
       "    .dataframe thead th {\n",
       "        text-align: right;\n",
       "    }\n",
       "</style>\n",
       "<table border=\"1\" class=\"dataframe\">\n",
       "  <thead>\n",
       "    <tr style=\"text-align: right;\">\n",
       "      <th>mau</th>\n",
       "      <th>False</th>\n",
       "      <th>True</th>\n",
       "    </tr>\n",
       "    <tr>\n",
       "      <th>row_0</th>\n",
       "      <th></th>\n",
       "      <th></th>\n",
       "    </tr>\n",
       "  </thead>\n",
       "  <tbody>\n",
       "    <tr>\n",
       "      <th>False</th>\n",
       "      <td>4053</td>\n",
       "      <td>66</td>\n",
       "    </tr>\n",
       "    <tr>\n",
       "      <th>True</th>\n",
       "      <td>21</td>\n",
       "      <td>23</td>\n",
       "    </tr>\n",
       "  </tbody>\n",
       "</table>\n",
       "</div>"
      ],
      "text/plain": [
       "mau    False  True \n",
       "row_0              \n",
       "False   4053     66\n",
       "True      21     23"
      ]
     },
     "execution_count": 40,
     "metadata": {},
     "output_type": "execute_result"
    }
   ],
   "source": [
    "# Matriz de confusão\n",
    "\n",
    "tab = pd.crosstab(index = y_pred, columns = y_test)\n",
    "\n",
    "print(tab.iloc[1, 0] / (tab.iloc[1, 0] + tab.iloc[0, 0])) # por essa\n",
    "\n",
    "print(tab.iloc[1, 1] / (tab.iloc[1, 1] + tab.iloc[0, 1])) # e por essa\n",
    "tab"
   ]
  },
  {
   "cell_type": "markdown",
   "id": "0b7588c1",
   "metadata": {
    "papermill": {
     "duration": 0.030538,
     "end_time": "2024-06-16T20:00:58.191906",
     "exception": false,
     "start_time": "2024-06-16T20:00:58.161368",
     "status": "completed"
    },
    "tags": []
   },
   "source": [
    "# Avaliação dos resultados\n",
    "Neste caso, a nossa etapa final terminará com a acurácia.\n",
    "\n",
    "Como um exemplo simples, considere que um cliente bom pagador deixa (em média) 5 '*dinheiros*' de lucro, e um mau pagador deixa (em média) 100 '*dinheiros*' de prejuízo.\n",
    "\n",
    "de acordo com a matriz de confusão:\n",
    "\n",
    "| Decisão   | lucro dos bons    | lucro dos maus | total  |\n",
    "| --------- |:-----------------:|:--------------:| ------:|\n",
    "| Aprovador | 4053 x 5          | 62 x (-100)    | 14.065 |\n",
    "| Reprovar  |  27 x 5           | 21 x (-100)    | -1.965 |\n",
    "\n",
    "Estariamos evitando, portanto, um prejuízo de -1.965  '*dinheiros*'  - o que na prática significa um aumento no lucro.\n"
   ]
  },
  {
   "cell_type": "markdown",
   "id": "e5501ea3",
   "metadata": {
    "papermill": {
     "duration": 0.030472,
     "end_time": "2024-06-16T20:00:58.253358",
     "exception": false,
     "start_time": "2024-06-16T20:00:58.222886",
     "status": "completed"
    },
    "tags": []
   },
   "source": [
    "# Conclusão\n",
    "\n",
    "Por meio da análise exploratória, identificamos que os fatores que mais parecem interferir na inadimplência dos clientes são idade e tempo de emprego.\n",
    "\n",
    "Quanto menor a idade e o tempo de emprego, maior a proporção de clientes inadimplentes.\n",
    "\n",
    "Com isso, treinamos um modelo de random forest, com acurácia de 97.86% para predição de clientes inadimplentes, evitando prejuízos com a concessão indevida de créditos para clientes com perfil inadimplentes. \n"
   ]
  }
 ],
 "metadata": {
  "kaggle": {
   "accelerator": "none",
   "dataSources": [
    {
     "datasetId": 5221474,
     "sourceId": 8705134,
     "sourceType": "datasetVersion"
    }
   ],
   "dockerImageVersionId": 30732,
   "isGpuEnabled": false,
   "isInternetEnabled": true,
   "language": "python",
   "sourceType": "notebook"
  },
  "kernelspec": {
   "display_name": "Python 3",
   "language": "python",
   "name": "python3"
  },
  "language_info": {
   "codemirror_mode": {
    "name": "ipython",
    "version": 3
   },
   "file_extension": ".py",
   "mimetype": "text/x-python",
   "name": "python",
   "nbconvert_exporter": "python",
   "pygments_lexer": "ipython3",
   "version": "3.10.13"
  },
  "papermill": {
   "default_parameters": {},
   "duration": 76.041571,
   "end_time": "2024-06-16T20:00:59.106695",
   "environment_variables": {},
   "exception": null,
   "input_path": "__notebook__.ipynb",
   "output_path": "__notebook__.ipynb",
   "parameters": {},
   "start_time": "2024-06-16T19:59:43.065124",
   "version": "2.5.0"
  }
 },
 "nbformat": 4,
 "nbformat_minor": 5
}
